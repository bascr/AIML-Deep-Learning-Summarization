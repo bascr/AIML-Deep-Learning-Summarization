{
 "cells": [
  {
   "cell_type": "code",
   "execution_count": 1,
   "id": "94d04696-9a18-4614-99ed-908c1a91a136",
   "metadata": {},
   "outputs": [
    {
     "name": "stdout",
     "output_type": "stream",
     "text": [
      "Requirement already satisfied: transformers in /usr/local/lib/python3.9/dist-packages (4.21.3)\n",
      "Requirement already satisfied: datasets in /usr/local/lib/python3.9/dist-packages (2.4.0)\n",
      "Collecting evaluate\n",
      "  Downloading evaluate-0.4.1-py3-none-any.whl (84 kB)\n",
      "\u001b[2K     \u001b[90m━━━━━━━━━━━━━━━━━━━━━━━━━━━━━━━━━━━━━━━━\u001b[0m \u001b[32m84.1/84.1 kB\u001b[0m \u001b[31m5.7 MB/s\u001b[0m eta \u001b[36m0:00:00\u001b[0m\n",
      "\u001b[?25hCollecting rouge_score\n",
      "  Downloading rouge_score-0.1.2.tar.gz (17 kB)\n",
      "  Preparing metadata (setup.py) ... \u001b[?25ldone\n",
      "\u001b[?25hRequirement already satisfied: numpy>=1.17 in /usr/local/lib/python3.9/dist-packages (from transformers) (1.23.4)\n",
      "Requirement already satisfied: huggingface-hub<1.0,>=0.1.0 in /usr/local/lib/python3.9/dist-packages (from transformers) (0.12.0)\n",
      "Requirement already satisfied: requests in /usr/local/lib/python3.9/dist-packages (from transformers) (2.28.2)\n",
      "Requirement already satisfied: filelock in /usr/local/lib/python3.9/dist-packages (from transformers) (3.9.0)\n",
      "Requirement already satisfied: pyyaml>=5.1 in /usr/local/lib/python3.9/dist-packages (from transformers) (5.4.1)\n",
      "Requirement already satisfied: tqdm>=4.27 in /usr/local/lib/python3.9/dist-packages (from transformers) (4.64.1)\n",
      "Requirement already satisfied: regex!=2019.12.17 in /usr/local/lib/python3.9/dist-packages (from transformers) (2022.10.31)\n",
      "Requirement already satisfied: packaging>=20.0 in /usr/local/lib/python3.9/dist-packages (from transformers) (23.0)\n",
      "Requirement already satisfied: tokenizers!=0.11.3,<0.13,>=0.11.1 in /usr/local/lib/python3.9/dist-packages (from transformers) (0.12.1)\n",
      "Requirement already satisfied: pandas in /usr/local/lib/python3.9/dist-packages (from datasets) (1.5.0)\n",
      "Requirement already satisfied: responses<0.19 in /usr/local/lib/python3.9/dist-packages (from datasets) (0.18.0)\n",
      "Requirement already satisfied: multiprocess in /usr/local/lib/python3.9/dist-packages (from datasets) (0.70.13)\n",
      "Requirement already satisfied: xxhash in /usr/local/lib/python3.9/dist-packages (from datasets) (3.2.0)\n",
      "Requirement already satisfied: dill<0.3.6 in /usr/local/lib/python3.9/dist-packages (from datasets) (0.3.5.1)\n",
      "Requirement already satisfied: fsspec[http]>=2021.11.1 in /usr/local/lib/python3.9/dist-packages (from datasets) (2023.1.0)\n",
      "Requirement already satisfied: pyarrow>=6.0.0 in /usr/local/lib/python3.9/dist-packages (from datasets) (10.0.1)\n",
      "Requirement already satisfied: aiohttp in /usr/local/lib/python3.9/dist-packages (from datasets) (3.8.3)\n",
      "Requirement already satisfied: absl-py in /usr/local/lib/python3.9/dist-packages (from rouge_score) (1.4.0)\n",
      "Requirement already satisfied: nltk in /usr/local/lib/python3.9/dist-packages (from rouge_score) (3.7)\n",
      "Requirement already satisfied: six>=1.14.0 in /usr/lib/python3/dist-packages (from rouge_score) (1.14.0)\n",
      "Requirement already satisfied: frozenlist>=1.1.1 in /usr/local/lib/python3.9/dist-packages (from aiohttp->datasets) (1.3.3)\n",
      "Requirement already satisfied: attrs>=17.3.0 in /usr/local/lib/python3.9/dist-packages (from aiohttp->datasets) (18.2.0)\n",
      "Requirement already satisfied: yarl<2.0,>=1.0 in /usr/local/lib/python3.9/dist-packages (from aiohttp->datasets) (1.8.2)\n",
      "Requirement already satisfied: multidict<7.0,>=4.5 in /usr/local/lib/python3.9/dist-packages (from aiohttp->datasets) (6.0.4)\n",
      "Requirement already satisfied: aiosignal>=1.1.2 in /usr/local/lib/python3.9/dist-packages (from aiohttp->datasets) (1.3.1)\n",
      "Requirement already satisfied: charset-normalizer<3.0,>=2.0 in /usr/local/lib/python3.9/dist-packages (from aiohttp->datasets) (2.1.1)\n",
      "Requirement already satisfied: async-timeout<5.0,>=4.0.0a3 in /usr/local/lib/python3.9/dist-packages (from aiohttp->datasets) (4.0.2)\n",
      "Requirement already satisfied: typing-extensions>=3.7.4.3 in /usr/local/lib/python3.9/dist-packages (from huggingface-hub<1.0,>=0.1.0->transformers) (4.4.0)\n",
      "Requirement already satisfied: urllib3<1.27,>=1.21.1 in /usr/local/lib/python3.9/dist-packages (from requests->transformers) (1.26.14)\n",
      "Requirement already satisfied: idna<4,>=2.5 in /usr/lib/python3/dist-packages (from requests->transformers) (2.8)\n",
      "Requirement already satisfied: certifi>=2017.4.17 in /usr/lib/python3/dist-packages (from requests->transformers) (2019.11.28)\n",
      "Requirement already satisfied: click in /usr/local/lib/python3.9/dist-packages (from nltk->rouge_score) (8.1.3)\n",
      "Requirement already satisfied: joblib in /usr/local/lib/python3.9/dist-packages (from nltk->rouge_score) (1.2.0)\n",
      "Requirement already satisfied: pytz>=2020.1 in /usr/local/lib/python3.9/dist-packages (from pandas->datasets) (2022.7.1)\n",
      "Requirement already satisfied: python-dateutil>=2.8.1 in /usr/local/lib/python3.9/dist-packages (from pandas->datasets) (2.8.2)\n",
      "Building wheels for collected packages: rouge_score\n",
      "  Building wheel for rouge_score (setup.py) ... \u001b[?25ldone\n",
      "\u001b[?25h  Created wheel for rouge_score: filename=rouge_score-0.1.2-py3-none-any.whl size=24936 sha256=190c811073348cec39febcc72e1e9908623326cfb230967877cf6b49a75152e7\n",
      "  Stored in directory: /root/.cache/pip/wheels/b0/3f/ac/cc3bc304f50c77ef38d79d8e4e2684313de39af543cb4eb3da\n",
      "Successfully built rouge_score\n",
      "Installing collected packages: rouge_score, evaluate\n",
      "Successfully installed evaluate-0.4.1 rouge_score-0.1.2\n",
      "\u001b[33mWARNING: Running pip as the 'root' user can result in broken permissions and conflicting behaviour with the system package manager. It is recommended to use a virtual environment instead: https://pip.pypa.io/warnings/venv\u001b[0m\u001b[33m\n",
      "\u001b[0m"
     ]
    }
   ],
   "source": [
    "!pip install transformers datasets evaluate rouge_score"
   ]
  },
  {
   "cell_type": "code",
   "execution_count": 2,
   "id": "bad9be70-a9c9-4064-9464-0e5b5a4a58fc",
   "metadata": {},
   "outputs": [],
   "source": [
    "import numpy as np\n",
    "import pandas as pd\n",
    "from pprint import pprint\n",
    "from tqdm.notebook import tqdm\n",
    "from datasets import load_dataset, Dataset, DatasetDict\n",
    "from sklearn.utils import shuffle\n",
    "import evaluate\n",
    "from transformers import AutoTokenizer, T5Config, DataCollatorForSeq2Seq, AutoModelForSeq2SeqLM, Seq2SeqTrainingArguments, Seq2SeqTrainer"
   ]
  },
  {
   "cell_type": "markdown",
   "id": "dc53875e-3842-423f-9609-b0f0f03cc423",
   "metadata": {},
   "source": [
    "# Prepare dataset"
   ]
  },
  {
   "cell_type": "markdown",
   "id": "7af283bf-7ef6-487e-b0ed-4afd281adedf",
   "metadata": {},
   "source": [
    "### Creating directories"
   ]
  },
  {
   "cell_type": "code",
   "execution_count": 3,
   "id": "0714ea5b-d1a1-4035-bbf3-5f07bf012704",
   "metadata": {},
   "outputs": [
    {
     "name": "stdout",
     "output_type": "stream",
     "text": [
      "/notebooks/custom\n",
      "tokenizer  model  dataset\n"
     ]
    }
   ],
   "source": [
    "DIR=\"t5\"\n",
    "\n",
    "!mkdir -p \"{DIR}/dataset\"\n",
    "!mkdir -p \"{DIR}/model\"\n",
    "!mkdir -p \"{DIR}/tokenizer\"\n",
    "\n",
    "!pwd\n",
    "!ls -r \"{DIR}\""
   ]
  },
  {
   "cell_type": "markdown",
   "id": "152fdfd2-c0b6-44fc-9e31-3181adc7910a",
   "metadata": {},
   "source": [
    "### Getting Dataset"
   ]
  },
  {
   "cell_type": "code",
   "execution_count": 4,
   "id": "040333a2-797f-4d40-98e2-a631d09276ab",
   "metadata": {},
   "outputs": [
    {
     "data": {
      "application/vnd.jupyter.widget-view+json": {
       "model_id": "30c33e99f2b3411690f94439ebd25dd8",
       "version_major": 2,
       "version_minor": 0
      },
      "text/plain": [
       "Downloading builder script:   0%|          | 0.00/1.53k [00:00<?, ?B/s]"
      ]
     },
     "metadata": {},
     "output_type": "display_data"
    },
    {
     "data": {
      "application/vnd.jupyter.widget-view+json": {
       "model_id": "a806108e6f1042e0b2b63468649656b2",
       "version_major": 2,
       "version_minor": 0
      },
      "text/plain": [
       "Downloading metadata:   0%|          | 0.00/832 [00:00<?, ?B/s]"
      ]
     },
     "metadata": {},
     "output_type": "display_data"
    },
    {
     "name": "stderr",
     "output_type": "stream",
     "text": [
      "Using custom data configuration default\n"
     ]
    },
    {
     "name": "stdout",
     "output_type": "stream",
     "text": [
      "Downloading and preparing dataset billsum/default (download: 64.14 MiB, generated: 259.80 MiB, post-processed: Unknown size, total: 323.94 MiB) to /root/.cache/huggingface/datasets/billsum/default/3.0.0/d1e95173aed3acb71327864be74ead49b578522e4c7206048b2f2e5351b57959...\n"
     ]
    },
    {
     "data": {
      "application/vnd.jupyter.widget-view+json": {
       "model_id": "8289ef4abf6d470f95be536fc7bffe5a",
       "version_major": 2,
       "version_minor": 0
      },
      "text/plain": [
       "Downloading data:   0%|          | 0.00/67.3M [00:00<?, ?B/s]"
      ]
     },
     "metadata": {},
     "output_type": "display_data"
    },
    {
     "data": {
      "application/vnd.jupyter.widget-view+json": {
       "model_id": "",
       "version_major": 2,
       "version_minor": 0
      },
      "text/plain": [
       "Generating train split:   0%|          | 0/18949 [00:00<?, ? examples/s]"
      ]
     },
     "metadata": {},
     "output_type": "display_data"
    },
    {
     "data": {
      "application/vnd.jupyter.widget-view+json": {
       "model_id": "",
       "version_major": 2,
       "version_minor": 0
      },
      "text/plain": [
       "Generating test split:   0%|          | 0/3269 [00:00<?, ? examples/s]"
      ]
     },
     "metadata": {},
     "output_type": "display_data"
    },
    {
     "data": {
      "application/vnd.jupyter.widget-view+json": {
       "model_id": "",
       "version_major": 2,
       "version_minor": 0
      },
      "text/plain": [
       "Generating ca_test split:   0%|          | 0/1237 [00:00<?, ? examples/s]"
      ]
     },
     "metadata": {},
     "output_type": "display_data"
    },
    {
     "name": "stdout",
     "output_type": "stream",
     "text": [
      "Dataset billsum downloaded and prepared to /root/.cache/huggingface/datasets/billsum/default/3.0.0/d1e95173aed3acb71327864be74ead49b578522e4c7206048b2f2e5351b57959. Subsequent calls will reuse this data.\n"
     ]
    },
    {
     "data": {
      "application/vnd.jupyter.widget-view+json": {
       "model_id": "f0f6889ed21d47a5a569d6eae003c65d",
       "version_major": 2,
       "version_minor": 0
      },
      "text/plain": [
       "  0%|          | 0/3 [00:00<?, ?it/s]"
      ]
     },
     "metadata": {},
     "output_type": "display_data"
    }
   ],
   "source": [
    "dataset = load_dataset(\"billsum\")\n",
    "\n",
    "train_test_valid = dataset[\"train\"].train_test_split(test_size=0.2, seed=20)\n",
    "test_valid = train_test_valid[\"test\"].train_test_split(test_size=0.5, seed=20)"
   ]
  },
  {
   "cell_type": "code",
   "execution_count": 5,
   "id": "7683b9a5-e7b6-43e9-bdfd-0d82b31bd97a",
   "metadata": {},
   "outputs": [],
   "source": [
    "ds_ = DatasetDict({\n",
    "        \"train\": train_test_valid[\"train\"],\n",
    "        \"test\": test_valid[\"test\"],\n",
    "        \"valid\": test_valid[\"train\"]\n",
    "      })"
   ]
  },
  {
   "cell_type": "code",
   "execution_count": 6,
   "id": "3be1527f-6f0b-4ec7-ab9b-6d2f4b2b337a",
   "metadata": {},
   "outputs": [
    {
     "name": "stdout",
     "output_type": "stream",
     "text": [
      "DatasetDict({\n",
      "    train: Dataset({\n",
      "        features: ['text', 'summary', 'title'],\n",
      "        num_rows: 15159\n",
      "    })\n",
      "    test: Dataset({\n",
      "        features: ['text', 'summary', 'title'],\n",
      "        num_rows: 1895\n",
      "    })\n",
      "    valid: Dataset({\n",
      "        features: ['text', 'summary', 'title'],\n",
      "        num_rows: 1895\n",
      "    })\n",
      "})\n"
     ]
    }
   ],
   "source": [
    "print(ds_)"
   ]
  },
  {
   "cell_type": "markdown",
   "id": "16ec1da5-9804-47d3-b91a-43548a84d369",
   "metadata": {},
   "source": [
    "### Visualizing the dataset on a Dataframe"
   ]
  },
  {
   "cell_type": "code",
   "execution_count": 7,
   "id": "d476c813-fba1-4c23-b5ff-474b21f48054",
   "metadata": {},
   "outputs": [],
   "source": [
    "pd.set_option(\"display.max_colwidth\", None)\n",
    "\n",
    "columns=[\"text\", \"summary\", \"title\"]\n",
    "\n",
    "df_train = pd.DataFrame(columns=columns)\n",
    "df_validation = pd.DataFrame(columns=columns)\n",
    "df_test = pd.DataFrame(columns=columns)"
   ]
  },
  {
   "cell_type": "code",
   "execution_count": 13,
   "id": "26d50124-1332-4bef-baf9-9b30d7dd558c",
   "metadata": {},
   "outputs": [],
   "source": [
    "def populate_dataframe(dataset: any, dataframe: pd.DataFrame, type_dataset:str) -> tuple:\n",
    "    \n",
    "    print(f\"Populating {type_dataset} dataset...\")\n",
    "    for index, val in enumerate(tqdm(dataset)):\n",
    "        text = val[\"text\"]\n",
    "        summary = val[\"summary\"]\n",
    "        title = val[\"title\"]\n",
    "        dataframe.loc[index] = [text] + [summary] + [title]"
   ]
  },
  {
   "cell_type": "code",
   "execution_count": 14,
   "id": "6dd70a0d-9aa7-4439-a302-03dbb0972da6",
   "metadata": {},
   "outputs": [
    {
     "name": "stdout",
     "output_type": "stream",
     "text": [
      "Populating train dataset...\n"
     ]
    },
    {
     "data": {
      "application/vnd.jupyter.widget-view+json": {
       "model_id": "e5d59c9e2867430fa2bcb6108e51c195",
       "version_major": 2,
       "version_minor": 0
      },
      "text/plain": [
       "  0%|          | 0/15159 [00:00<?, ?it/s]"
      ]
     },
     "metadata": {},
     "output_type": "display_data"
    },
    {
     "name": "stdout",
     "output_type": "stream",
     "text": [
      "number of instances: (15159, 3)\n"
     ]
    }
   ],
   "source": [
    "populate_dataframe(dataset=ds_[\"train\"], dataframe=df_train, type_dataset=\"train\")\n",
    "print(f\"number of instances: {df_train.shape}\")"
   ]
  },
  {
   "cell_type": "code",
   "execution_count": 15,
   "id": "d08ce236-7bae-4e32-b101-ca49c60161df",
   "metadata": {},
   "outputs": [
    {
     "name": "stdout",
     "output_type": "stream",
     "text": [
      "Populating validation dataset...\n"
     ]
    },
    {
     "data": {
      "application/vnd.jupyter.widget-view+json": {
       "model_id": "157f862ee62640b1beb18fa848158e48",
       "version_major": 2,
       "version_minor": 0
      },
      "text/plain": [
       "  0%|          | 0/1895 [00:00<?, ?it/s]"
      ]
     },
     "metadata": {},
     "output_type": "display_data"
    },
    {
     "name": "stdout",
     "output_type": "stream",
     "text": [
      "number of instances: (1895, 3)\n"
     ]
    }
   ],
   "source": [
    "populate_dataframe(dataset=ds_[\"valid\"], dataframe=df_validation, type_dataset=\"validation\")\n",
    "print(f\"number of instances: {df_validation.shape}\")"
   ]
  },
  {
   "cell_type": "code",
   "execution_count": 16,
   "id": "3946c470-cea3-497a-ae1a-9423fd86053a",
   "metadata": {},
   "outputs": [
    {
     "name": "stdout",
     "output_type": "stream",
     "text": [
      "Populating test dataset...\n"
     ]
    },
    {
     "data": {
      "application/vnd.jupyter.widget-view+json": {
       "model_id": "0ff332c75d144c93ae17e302d487531d",
       "version_major": 2,
       "version_minor": 0
      },
      "text/plain": [
       "  0%|          | 0/1895 [00:00<?, ?it/s]"
      ]
     },
     "metadata": {},
     "output_type": "display_data"
    },
    {
     "name": "stdout",
     "output_type": "stream",
     "text": [
      "number of instances: (1895, 3)\n"
     ]
    }
   ],
   "source": [
    "populate_dataframe(dataset=ds_[\"test\"], dataframe=df_test, type_dataset=\"test\")\n",
    "print(f\"number of instances: {df_test.shape}\")"
   ]
  },
  {
   "cell_type": "code",
   "execution_count": 17,
   "id": "92a4c30b-c93e-4fba-a764-838f58497dbc",
   "metadata": {},
   "outputs": [
    {
     "name": "stdout",
     "output_type": "stream",
     "text": [
      "Train dataframe shape: (15159, 3)\n",
      "Validation dataframe shape: (1895, 3)\n",
      "Test dataframe shape: (1895, 3)\n"
     ]
    }
   ],
   "source": [
    "df_train = shuffle(df_train)\n",
    "df_validation = shuffle(df_validation)\n",
    "df_test = shuffle(df_test)\n",
    "\n",
    "print(f\"Train dataframe shape: {df_train.shape}\")\n",
    "print(f\"Validation dataframe shape: {df_validation.shape}\")\n",
    "print(f\"Test dataframe shape: {df_test.shape}\")"
   ]
  },
  {
   "cell_type": "markdown",
   "id": "dc2af551-1d3e-4e72-bef3-a261ed8de594",
   "metadata": {},
   "source": [
    "### Sample train"
   ]
  },
  {
   "cell_type": "code",
   "execution_count": 18,
   "id": "dd8e95cb-1444-483f-a511-a6daa05f2abe",
   "metadata": {},
   "outputs": [
    {
     "data": {
      "text/html": [
       "<div>\n",
       "<style scoped>\n",
       "    .dataframe tbody tr th:only-of-type {\n",
       "        vertical-align: middle;\n",
       "    }\n",
       "\n",
       "    .dataframe tbody tr th {\n",
       "        vertical-align: top;\n",
       "    }\n",
       "\n",
       "    .dataframe thead th {\n",
       "        text-align: right;\n",
       "    }\n",
       "</style>\n",
       "<table border=\"1\" class=\"dataframe\">\n",
       "  <thead>\n",
       "    <tr style=\"text-align: right;\">\n",
       "      <th></th>\n",
       "      <th>text</th>\n",
       "      <th>summary</th>\n",
       "      <th>title</th>\n",
       "    </tr>\n",
       "  </thead>\n",
       "  <tbody>\n",
       "    <tr>\n",
       "      <th>3247</th>\n",
       "      <td>SECTION 1. SHORT TITLE.\\n\\n    This Act may be cited as the ``Law Enforcement Abuse Transparency \\nand Accountability Act of 2006''.\\n\\nSEC. 2. FINDINGS.\\n\\n    Congress finds the following:\\n            (1) American law enforcement has a fundamental duty to \\n        provide compassion, aid, and protection and safety to the \\n        people it serves.\\n            (2) A primary function of law enforcement is to preserve \\n        life, regardless of the race, ethnicity, religion, social or \\n        economic standing, sexual preference, or country of origin of \\n        the individuals involved.\\n            (3) Over many years, thousands of cases of State and local \\n        law enforcement agency violations of suspects, detainees, and \\n        prisoners went inadequately addressed across the United States, \\n        especially in African-American communities and other \\n        communities of color or poverty.\\n            (4) In recent years, procedures, training, and public \\n        oversight have failed to significantly curb or eliminate abuses \\n        and murders of innocent suspects and citizens at the hands of \\n        officers of the law, to fully investigate claims of excessive \\n        use of force, or to adequately reprimand, punish, or remove \\n        such offenders or their superiors.\\n            (5) A special prosecutor in Chicago has been investigating \\n        a police abuse ring that operated over three decades with \\n        impunity, responsible for torturing over 200 African-American \\n        males in their custody at the Area 2 and Area 3 police \\n        headquarters.\\n            (6) Since the 1997 New York Police Department torture of \\n        Abner Louima, and the fatal shooting of Amadou Bailo Diallo in \\n        1999, public and media attention concerning abuse of power and \\n        the unjustified and improper use of force by law enforcement in \\n        communities of color has continuously increased, as have the \\n        number of outraged community responses and the demands for \\n        external oversight of police practices.\\n            (7) More recently, police in Chicago on November 25, 2006, \\n        police officers in New York City shot 50 times and killed an \\n        unarmed man, Sean Bell. The next day, a community rally \\n        protested the police action and called for the removal of \\n        Police Commissioner Raymond Kelly.\\n            (8) Fatal shootings and abuse of suspects and prisoners \\n        have come to light again recently in other cities, including \\n        Atlanta, Georgia, and DeKalb County, Georgia.\\n            (9) Every major State and local city law enforcement agency \\n        receives and depends on some level of Federal funding, \\n        training, grants, or assistance, paid for primarily from the \\n        tax revenues of the citizens being abused.\\n            (10) The common and continuing unaccountable behavior and \\n        silence of members of law enforcement agencies regarding these \\n        abuses are a disgrace to the efforts of law enforcement \\n        agencies throughout the United States and should not be \\n        tolerated.\\n            (11) The lack of transparency, oversight, community \\n        involvement, independent review and investigation, and \\n        consequences to the law enforcement violators makes continuing \\n        abuse more likely, and must be reversed by denying Federal \\n        funding to any law enforcement agency that fails to establish a \\n        minimum of professional training and procedures of engagement; \\n        that tolerates abuses or fatal use of excessive force; that \\n        fails to operate under rules of transparency and community \\n        oversight, investigation, and review; that fails to discipline, \\n        remove, or otherwise hold accountable any perpetrators acting \\n        under the color of law enforcement; or that refuses to fairly \\n        hear each case or allegation of possible abuse or excessive use \\n        of force by law enforcement officers, reviewed by an \\n        established and independent forum.\\n\\nSEC. 3. SENSE OF CONGRESS.\\n\\n    It is the sense of Congress that the dishonorable actions referred \\nto in section 2 should be independently investigated, recorded, and \\ncondemned.\\n\\nSEC. 4. INELIGIBILITY FOR FEDERAL ASSISTANCE.\\n\\n    (a) In General.--During the 1-year period beginning on the date of \\nenactment of this Act, or until transparency and accountability are \\nfully restored, law enforcement agencies that do not have established \\nprocedures for independent oversight and review, or do not hold \\nviolations by police of excessive use of force, torture, or \\nmanslaughter accountable, shall be ineligible to participate in any \\nFederal program, whether by funding, assistance, contract, grant, \\npersonnel support, or otherwise.\\n    (b) Licenses.--During the 1-year period beginning on the date of \\nenactment of this Act, any Federal license issued to any such law \\nenforcement agencies shall be suspended, or until transparency and \\naccountability are fully restored.\\n    (c) Equipment.--Law enforcement agencies identified as carrying out \\nabuses or wrongful deaths, without consequence or open public review or \\nallegations, shall immediately return all federally-owned equipment in \\nthe possession or use of such law enforcement agencies to the \\nappropriate Federal agency.\\n\\nSEC. 5. LAW ENFORCEMENT AGENCIES DEFINED.\\n\\n    In this Act, the term ``law enforcement agencies'' means the \\nfollowing entities in any State or locality within the control and \\njurisdiction of the United States receiving Federal funds for training, \\nequipment, or other support.</td>\n",
       "      <td>Law Enforcement Abuse Transparency and Accountability Act of 2006 - Expresses the sense of Congress that incidences of law enforcement abuse of citizens should be independently investigated, recorded, and condemned.\\n\\nRenders state or local law enforcement agencies receiving assistance from the federal government ineligible for further assistance, licenses, or federally-owned equipment until such agencies establish procedures for independent oversight and review and hold police officers accountable for excessive use of force, torture, or manslaughter.</td>\n",
       "      <td>To deny Federal assistance to any State or local law enforcement agencies whose officers use excessive force or violence leading to the death of innocent or unarmed citizens, or who fail to establish, enforce and follow transparent and accountable procedures that fully protect the lives and health of citizens during surveillance, interrogation, arrest or imprisonment from torture, excessive physical or psychological abuse and death, and to require a system of transparent legal and public review of such allegations and cases that can result in the sanction, punishment and removal of officers who perpetrate such abuses or their superiors.</td>\n",
       "    </tr>\n",
       "  </tbody>\n",
       "</table>\n",
       "</div>"
      ],
      "text/plain": [
       "                                                                                                                                                                                                                                                                                                                                                                                                                                                                                                                                                                                                                                                                                                                                                                                                                                                                                                                                                                                                                                                                                                                                                                                                                                                                                                                                                                                                                                                                                                                                                                                                                                                                                                                                                                                                                                                                                                                                                                                                                                                                                                                                                                                                                                                                                                                                                                                                                                                                                                                                                                                                                                                                                                                                                                                                                                                                                                                                                                                                                                                                                                                                                                                                                                                                                                                                                                                                                                                                                                                                                                                                                                                                                                                                                                                                                                                                                                                                                                                                                                                                                                                                                                                                                                                                                                                                                                                                                                                                                                                                                                                                                                                                                                                                                                                                                                                                                                                                                                                                                                                                                                                                                                                                                                                                                                                                                                                                                                                                                                                                                                                                                                                                                                                                                                                                                                                                                                                                                                               text  \\\n",
       "3247  SECTION 1. SHORT TITLE.\\n\\n    This Act may be cited as the ``Law Enforcement Abuse Transparency \\nand Accountability Act of 2006''.\\n\\nSEC. 2. FINDINGS.\\n\\n    Congress finds the following:\\n            (1) American law enforcement has a fundamental duty to \\n        provide compassion, aid, and protection and safety to the \\n        people it serves.\\n            (2) A primary function of law enforcement is to preserve \\n        life, regardless of the race, ethnicity, religion, social or \\n        economic standing, sexual preference, or country of origin of \\n        the individuals involved.\\n            (3) Over many years, thousands of cases of State and local \\n        law enforcement agency violations of suspects, detainees, and \\n        prisoners went inadequately addressed across the United States, \\n        especially in African-American communities and other \\n        communities of color or poverty.\\n            (4) In recent years, procedures, training, and public \\n        oversight have failed to significantly curb or eliminate abuses \\n        and murders of innocent suspects and citizens at the hands of \\n        officers of the law, to fully investigate claims of excessive \\n        use of force, or to adequately reprimand, punish, or remove \\n        such offenders or their superiors.\\n            (5) A special prosecutor in Chicago has been investigating \\n        a police abuse ring that operated over three decades with \\n        impunity, responsible for torturing over 200 African-American \\n        males in their custody at the Area 2 and Area 3 police \\n        headquarters.\\n            (6) Since the 1997 New York Police Department torture of \\n        Abner Louima, and the fatal shooting of Amadou Bailo Diallo in \\n        1999, public and media attention concerning abuse of power and \\n        the unjustified and improper use of force by law enforcement in \\n        communities of color has continuously increased, as have the \\n        number of outraged community responses and the demands for \\n        external oversight of police practices.\\n            (7) More recently, police in Chicago on November 25, 2006, \\n        police officers in New York City shot 50 times and killed an \\n        unarmed man, Sean Bell. The next day, a community rally \\n        protested the police action and called for the removal of \\n        Police Commissioner Raymond Kelly.\\n            (8) Fatal shootings and abuse of suspects and prisoners \\n        have come to light again recently in other cities, including \\n        Atlanta, Georgia, and DeKalb County, Georgia.\\n            (9) Every major State and local city law enforcement agency \\n        receives and depends on some level of Federal funding, \\n        training, grants, or assistance, paid for primarily from the \\n        tax revenues of the citizens being abused.\\n            (10) The common and continuing unaccountable behavior and \\n        silence of members of law enforcement agencies regarding these \\n        abuses are a disgrace to the efforts of law enforcement \\n        agencies throughout the United States and should not be \\n        tolerated.\\n            (11) The lack of transparency, oversight, community \\n        involvement, independent review and investigation, and \\n        consequences to the law enforcement violators makes continuing \\n        abuse more likely, and must be reversed by denying Federal \\n        funding to any law enforcement agency that fails to establish a \\n        minimum of professional training and procedures of engagement; \\n        that tolerates abuses or fatal use of excessive force; that \\n        fails to operate under rules of transparency and community \\n        oversight, investigation, and review; that fails to discipline, \\n        remove, or otherwise hold accountable any perpetrators acting \\n        under the color of law enforcement; or that refuses to fairly \\n        hear each case or allegation of possible abuse or excessive use \\n        of force by law enforcement officers, reviewed by an \\n        established and independent forum.\\n\\nSEC. 3. SENSE OF CONGRESS.\\n\\n    It is the sense of Congress that the dishonorable actions referred \\nto in section 2 should be independently investigated, recorded, and \\ncondemned.\\n\\nSEC. 4. INELIGIBILITY FOR FEDERAL ASSISTANCE.\\n\\n    (a) In General.--During the 1-year period beginning on the date of \\nenactment of this Act, or until transparency and accountability are \\nfully restored, law enforcement agencies that do not have established \\nprocedures for independent oversight and review, or do not hold \\nviolations by police of excessive use of force, torture, or \\nmanslaughter accountable, shall be ineligible to participate in any \\nFederal program, whether by funding, assistance, contract, grant, \\npersonnel support, or otherwise.\\n    (b) Licenses.--During the 1-year period beginning on the date of \\nenactment of this Act, any Federal license issued to any such law \\nenforcement agencies shall be suspended, or until transparency and \\naccountability are fully restored.\\n    (c) Equipment.--Law enforcement agencies identified as carrying out \\nabuses or wrongful deaths, without consequence or open public review or \\nallegations, shall immediately return all federally-owned equipment in \\nthe possession or use of such law enforcement agencies to the \\nappropriate Federal agency.\\n\\nSEC. 5. LAW ENFORCEMENT AGENCIES DEFINED.\\n\\n    In this Act, the term ``law enforcement agencies'' means the \\nfollowing entities in any State or locality within the control and \\njurisdiction of the United States receiving Federal funds for training, \\nequipment, or other support.   \n",
       "\n",
       "                                                                                                                                                                                                                                                                                                                                                                                                                                                                                                                                                                             summary  \\\n",
       "3247  Law Enforcement Abuse Transparency and Accountability Act of 2006 - Expresses the sense of Congress that incidences of law enforcement abuse of citizens should be independently investigated, recorded, and condemned.\\n\\nRenders state or local law enforcement agencies receiving assistance from the federal government ineligible for further assistance, licenses, or federally-owned equipment until such agencies establish procedures for independent oversight and review and hold police officers accountable for excessive use of force, torture, or manslaughter.   \n",
       "\n",
       "                                                                                                                                                                                                                                                                                                                                                                                                                                                                                                                                                                                                                                                                     title  \n",
       "3247  To deny Federal assistance to any State or local law enforcement agencies whose officers use excessive force or violence leading to the death of innocent or unarmed citizens, or who fail to establish, enforce and follow transparent and accountable procedures that fully protect the lives and health of citizens during surveillance, interrogation, arrest or imprisonment from torture, excessive physical or psychological abuse and death, and to require a system of transparent legal and public review of such allegations and cases that can result in the sanction, punishment and removal of officers who perpetrate such abuses or their superiors.  "
      ]
     },
     "execution_count": 18,
     "metadata": {},
     "output_type": "execute_result"
    }
   ],
   "source": [
    "df_train.head(1)"
   ]
  },
  {
   "cell_type": "markdown",
   "id": "cce396fb-b35b-4673-ae1e-b99bbafc9d1d",
   "metadata": {},
   "source": [
    "### Sample validation"
   ]
  },
  {
   "cell_type": "code",
   "execution_count": 19,
   "id": "22864d60-216a-4041-a9de-9b299a8dc75e",
   "metadata": {},
   "outputs": [
    {
     "data": {
      "text/html": [
       "<div>\n",
       "<style scoped>\n",
       "    .dataframe tbody tr th:only-of-type {\n",
       "        vertical-align: middle;\n",
       "    }\n",
       "\n",
       "    .dataframe tbody tr th {\n",
       "        vertical-align: top;\n",
       "    }\n",
       "\n",
       "    .dataframe thead th {\n",
       "        text-align: right;\n",
       "    }\n",
       "</style>\n",
       "<table border=\"1\" class=\"dataframe\">\n",
       "  <thead>\n",
       "    <tr style=\"text-align: right;\">\n",
       "      <th></th>\n",
       "      <th>text</th>\n",
       "      <th>summary</th>\n",
       "      <th>title</th>\n",
       "    </tr>\n",
       "  </thead>\n",
       "  <tbody>\n",
       "    <tr>\n",
       "      <th>1842</th>\n",
       "      <td>SECTION 1. SHORT TITLE.\\n\\n    This Act may be cited as the ``Help Separated Families Act of \\n2012''.\\n\\nSEC. 2. IMMIGRATION STATUS ALONE NOT A DISQUALIFICATION FROM BEING A \\n              PLACEMENT FOR A FOSTER CHILD.\\n\\n    Section 471(a)(19) of the Social Security Act (42 U.S.C. \\n671(a)(19)) is amended--\\n            (1) by striking ``(19) provides that the State'' and \\n        inserting the following:\\n            ``(19) provides that--\\n                    ``(A) the State''; and\\n            (2) by adding after and below the end the following:\\n                    ``(B) such standards shall ensure that the \\n                immigration status alone of a parent, legal guardian, \\n                or relative shall not disqualify the parent, legal \\n                guardian, or relative from being a placement for a \\n                child;''.\\n\\nSEC. 3. STATE PLAN REQUIREMENT TO ACCEPT CERTAIN DOCUMENTS ISSUED BY \\n              FOREIGN ENTITIES AS SUFFICIENT IDENTIFICATION FOR \\n              PURPOSES OF INITIATING A CRIMINAL RECORDS CHECK OR A \\n              FINGERPRINT-BASED CHECK.\\n\\n    Section 471(a)(20) of the Social Security Act (42 U.S.C. \\n671(a)(20)) is amended--\\n            (1) in subparagraph (A), by inserting ``which procedures \\n        shall require the State (including the State agency, the child \\n        welfare agency of any county or other political subdivision of \\n        the State, and caseworkers and supervisors of any such agency) \\n        to accept a foreign consulate identification card, a foreign \\n        passport, or such other foreign identification document as may \\n        be allowed in regulations prescribed by the Secretary, as \\n        sufficient identification for purposes of initiating a criminal \\n        records check or a fingerprint-based check,'' before \\n        ``including procedures''; and\\n            (2) in subparagraph (C), by inserting ``, which procedures \\n        shall require the State (including the State agency, the child \\n        welfare agency of any county or other political subdivision of \\n        the State, and caseworkers and supervisors of any such agency) \\n        to accept a foreign consulate identification card, a foreign \\n        passport, or such other foreign identification document as may \\n        be allowed in regulations prescribed by the Secretary, as \\n        sufficient identification for purposes of initiating a criminal \\n        records check or a fingerprint-based check'' before the \\n        semicolon.\\n\\nSEC. 4. STATE CHILD WELFARE AGENCIES ENCOURAGED TO GRANT WAIVERS OF \\n              REQUIREMENTS THAT WOULD PREVENT A CHILD FROM BEING PLACED \\n              WITH A RELATIVE ON THE BASIS OF A MINOR LEGAL INFRACTION \\n              BY THE RELATIVE.\\n\\n    It is the sense of the Congress that the child welfare agency of a \\nState, or of any county or other political subdivision of a State, \\nshould grant a waiver of any requirement which would prevent the \\nplacement of a child with a relative of the child, on the basis of a \\nminor legal infraction, if the relative would otherwise be considered \\neligible for such a placement.\\n\\nSEC. 5. STATE PLAN REQUIREMENT TO NOTIFY RELATIVES SEEKING PLACEMENT OF \\n              A CHILD THAT THEIR IMMIGRATION STATUS WILL NOT BE \\n              QUESTIONED.\\n\\n    Section 471(a)(29) of the Social Security Act (42 U.S.C. \\n671(a)(29)) is amended--\\n            (1) by striking ``and'' at the end of subparagraph (C);\\n            (2) by adding ``and'' at the end of subparagraph (D); and\\n            (3) by adding at the end the following:\\n                    ``(E) the immigration status of any such relative \\n                seeking placement of the child with the relative shall \\n                not be questioned, except to the extent necessary in \\n                determining eligibility for relevant services or \\n                programs;''.\\n\\nSEC. 6. PROHIBITION ON STATE FILING FOR TERMINATION OF PARENTAL RIGHTS \\n              IN FOSTER CARE CASES IN WHICH OTHERWISE FIT AND WILLING \\n              PARENT OR RELATIVE HAS BEEN DEPORTED OR IS INVOLVED IN AN \\n              IMMIGRATION PROCEEDING, UNLESS CERTAIN CONDITIONS HAVE \\n              BEEN MET.\\n\\n    Section 475(5)(E) of the Social Security Act (42 U.S.C. 675(5)(E)) \\nis amended by adding after and below the end the following flush text:\\n        ``except that the State, and a county or other political \\n        subdivision of the State, shall not file (or join in the filing \\n        of such a petition) based on the removal of the parent from the \\n        United States or the involvement of the parent in (including \\n        detention pursuant to) an immigration proceeding, unless (I) \\n        the State (or the county or other political subdivision of the \\n        State, as the case may be) has made reasonable efforts to \\n        identify, locate, and contact any parent of the child, who has \\n        been removed from the United States, and any adult relative of \\n        the child, referred to in section 471(a)(29), including through \\n        the diplomatic or consular offices of the country to which the \\n        parent was removed, to notify such a parent or relative of the \\n        intent of the State (or the county or other political \\n        subdivision of the State, as the case may be) to file (or join \\n        in the filing of) such a petition, and to reunify the child \\n        with any such parent or relative; or (II) the parent is unfit \\n        or unwilling to be a parent of the child;''.\\n\\nSEC. 7. EFFECTIVE DATE.\\n\\n    (a) In General.--The amendments made by this Act shall take effect \\non the 1st day of the 1st fiscal year beginning on or after the date of \\nthe enactment of this Act, and shall apply to payments under part E of \\ntitle IV of the Social Security Act for calendar quarters beginning on \\nor after such date.\\n    (b) Delay Permitted if State Legislation Required.--If the \\nSecretary of Health and Human Services determines that State \\nlegislation (other than legislation appropriating funds) is required in \\norder for a State plan approved under part E of title IV of the Social \\nSecurity Act to meet the additional requirements imposed by the \\namendments made by this Act, the plan shall not be regarded as failing \\nto meet any of the additional requirements before the 1st day of the \\n1st calendar quarter beginning after the 1st regular session of the \\nState legislature that begins after the date of the enactment of this \\nAct. For purposes of the preceding sentence, if the State has a 2-year \\nlegislative session, each year of the session is deemed to be a \\nseparate regular session of the State legislature.</td>\n",
       "      <td>Help Separated Families Act of 2012 - Amends part E (Foster Care and Adoption Assistance) of title IV of the Social Security Act to: (1) require state child protection standards to ensure that the immigration status alone of a parent, legal guardian, or relative shall not disqualify the parent, legal guardian, or relative from being a placement for a child; and (2) require the state procedures for criminal records checks to require the state to accept foreign identification documents as sufficient identification for purposes of initiating a criminal records check or a fingerprint-based check.\\n\\nExpresses the sense of Congress that the child welfare agency of a state, or of any county or other political subdivision of a state, should grant a waiver of any requirement which would prevent the placement of a child with a relative of the child, on the basis of a minor legal infraction, if the relative would otherwise be considered eligible for such a placement.\\n\\nRequires the state plan for foster care and adoption assistance to notify relatives seeking placement of a child that their immigration status will not be questioned, except to the extent necessary in determining eligibility for relevant services or programs.\\n\\nProhibits a state or local government agency from filing for termination of parental rights in foster care cases based on the removal of the parent from the United States or the parent's involvement in an immigration proceeding, unless: (1) the state (or local agency) has made reasonable efforts to notify of the intention to file such a petition any parent of the child who has been removed from the United States, and any adult relative of the child, including through the diplomatic or consular offices of the country to which the parent was removed, and to reunify the child with any such parent or relative; or (2) the parent is unfit or unwilling to be a parent of the child.</td>\n",
       "      <td>To amend part E of title IV of the Social Security Act to ensure that immigration status alone does not disqualify a parent, legal guardian, or relative from being a placement for a foster child, to prohibit a State, county, or other political subdivision of a State from filing for termination of parental rights in foster care cases in which an otherwise fit and willing parent or legal guardian has been deported or is involved in (including detention pursuant to) an immigration proceeding, unless certain conditions have been met, and for other purposes.</td>\n",
       "    </tr>\n",
       "  </tbody>\n",
       "</table>\n",
       "</div>"
      ],
      "text/plain": [
       "                                                                                                                                                                                                                                                                                                                                                                                                                                                                                                                                                                                                                                                                                                                                                                                                                                                                                                                                                                                                                                                                                                                                                                                                                                                                                                                                                                                                                                                                                                                                                                                                                                                                                                                                                                                                                                                                                                                                                                                                                                                                                                                                                                                                                                                                                                                                                                                                                                                                                                                                                                                                                                                                                                                                                                                                                                                                                                                                                                                                                                                                                                                                                                                                                                                                                                                                                                                                                                                                                                                                                                                                                                                                                                                                                                                                                                                                                                                                                                                                                                                                                                                                                                                                                                                                                                                                                                                                                                                                                                                                                                                                                                                                                                                                                                                                                                                                                                                                                                                                                                                                                                                                                                                                                                                                                                                                                                                                                                                                                                                                                                                                                                                                                                                                                                                                                                                                                                                                                                                                                                                                                                                                                                                                                                                                                                                                                                                                                                                                                                                                                                                                                                                                                                                                                                                                                                                                                                                                                                                                                                                text  \\\n",
       "1842  SECTION 1. SHORT TITLE.\\n\\n    This Act may be cited as the ``Help Separated Families Act of \\n2012''.\\n\\nSEC. 2. IMMIGRATION STATUS ALONE NOT A DISQUALIFICATION FROM BEING A \\n              PLACEMENT FOR A FOSTER CHILD.\\n\\n    Section 471(a)(19) of the Social Security Act (42 U.S.C. \\n671(a)(19)) is amended--\\n            (1) by striking ``(19) provides that the State'' and \\n        inserting the following:\\n            ``(19) provides that--\\n                    ``(A) the State''; and\\n            (2) by adding after and below the end the following:\\n                    ``(B) such standards shall ensure that the \\n                immigration status alone of a parent, legal guardian, \\n                or relative shall not disqualify the parent, legal \\n                guardian, or relative from being a placement for a \\n                child;''.\\n\\nSEC. 3. STATE PLAN REQUIREMENT TO ACCEPT CERTAIN DOCUMENTS ISSUED BY \\n              FOREIGN ENTITIES AS SUFFICIENT IDENTIFICATION FOR \\n              PURPOSES OF INITIATING A CRIMINAL RECORDS CHECK OR A \\n              FINGERPRINT-BASED CHECK.\\n\\n    Section 471(a)(20) of the Social Security Act (42 U.S.C. \\n671(a)(20)) is amended--\\n            (1) in subparagraph (A), by inserting ``which procedures \\n        shall require the State (including the State agency, the child \\n        welfare agency of any county or other political subdivision of \\n        the State, and caseworkers and supervisors of any such agency) \\n        to accept a foreign consulate identification card, a foreign \\n        passport, or such other foreign identification document as may \\n        be allowed in regulations prescribed by the Secretary, as \\n        sufficient identification for purposes of initiating a criminal \\n        records check or a fingerprint-based check,'' before \\n        ``including procedures''; and\\n            (2) in subparagraph (C), by inserting ``, which procedures \\n        shall require the State (including the State agency, the child \\n        welfare agency of any county or other political subdivision of \\n        the State, and caseworkers and supervisors of any such agency) \\n        to accept a foreign consulate identification card, a foreign \\n        passport, or such other foreign identification document as may \\n        be allowed in regulations prescribed by the Secretary, as \\n        sufficient identification for purposes of initiating a criminal \\n        records check or a fingerprint-based check'' before the \\n        semicolon.\\n\\nSEC. 4. STATE CHILD WELFARE AGENCIES ENCOURAGED TO GRANT WAIVERS OF \\n              REQUIREMENTS THAT WOULD PREVENT A CHILD FROM BEING PLACED \\n              WITH A RELATIVE ON THE BASIS OF A MINOR LEGAL INFRACTION \\n              BY THE RELATIVE.\\n\\n    It is the sense of the Congress that the child welfare agency of a \\nState, or of any county or other political subdivision of a State, \\nshould grant a waiver of any requirement which would prevent the \\nplacement of a child with a relative of the child, on the basis of a \\nminor legal infraction, if the relative would otherwise be considered \\neligible for such a placement.\\n\\nSEC. 5. STATE PLAN REQUIREMENT TO NOTIFY RELATIVES SEEKING PLACEMENT OF \\n              A CHILD THAT THEIR IMMIGRATION STATUS WILL NOT BE \\n              QUESTIONED.\\n\\n    Section 471(a)(29) of the Social Security Act (42 U.S.C. \\n671(a)(29)) is amended--\\n            (1) by striking ``and'' at the end of subparagraph (C);\\n            (2) by adding ``and'' at the end of subparagraph (D); and\\n            (3) by adding at the end the following:\\n                    ``(E) the immigration status of any such relative \\n                seeking placement of the child with the relative shall \\n                not be questioned, except to the extent necessary in \\n                determining eligibility for relevant services or \\n                programs;''.\\n\\nSEC. 6. PROHIBITION ON STATE FILING FOR TERMINATION OF PARENTAL RIGHTS \\n              IN FOSTER CARE CASES IN WHICH OTHERWISE FIT AND WILLING \\n              PARENT OR RELATIVE HAS BEEN DEPORTED OR IS INVOLVED IN AN \\n              IMMIGRATION PROCEEDING, UNLESS CERTAIN CONDITIONS HAVE \\n              BEEN MET.\\n\\n    Section 475(5)(E) of the Social Security Act (42 U.S.C. 675(5)(E)) \\nis amended by adding after and below the end the following flush text:\\n        ``except that the State, and a county or other political \\n        subdivision of the State, shall not file (or join in the filing \\n        of such a petition) based on the removal of the parent from the \\n        United States or the involvement of the parent in (including \\n        detention pursuant to) an immigration proceeding, unless (I) \\n        the State (or the county or other political subdivision of the \\n        State, as the case may be) has made reasonable efforts to \\n        identify, locate, and contact any parent of the child, who has \\n        been removed from the United States, and any adult relative of \\n        the child, referred to in section 471(a)(29), including through \\n        the diplomatic or consular offices of the country to which the \\n        parent was removed, to notify such a parent or relative of the \\n        intent of the State (or the county or other political \\n        subdivision of the State, as the case may be) to file (or join \\n        in the filing of) such a petition, and to reunify the child \\n        with any such parent or relative; or (II) the parent is unfit \\n        or unwilling to be a parent of the child;''.\\n\\nSEC. 7. EFFECTIVE DATE.\\n\\n    (a) In General.--The amendments made by this Act shall take effect \\non the 1st day of the 1st fiscal year beginning on or after the date of \\nthe enactment of this Act, and shall apply to payments under part E of \\ntitle IV of the Social Security Act for calendar quarters beginning on \\nor after such date.\\n    (b) Delay Permitted if State Legislation Required.--If the \\nSecretary of Health and Human Services determines that State \\nlegislation (other than legislation appropriating funds) is required in \\norder for a State plan approved under part E of title IV of the Social \\nSecurity Act to meet the additional requirements imposed by the \\namendments made by this Act, the plan shall not be regarded as failing \\nto meet any of the additional requirements before the 1st day of the \\n1st calendar quarter beginning after the 1st regular session of the \\nState legislature that begins after the date of the enactment of this \\nAct. For purposes of the preceding sentence, if the State has a 2-year \\nlegislative session, each year of the session is deemed to be a \\nseparate regular session of the State legislature.   \n",
       "\n",
       "                                                                                                                                                                                                                                                                                                                                                                                                                                                                                                                                                                                                                                                                                                                                                                                                                                                                                                                                                                                                                                                                                                                                                                                                                                                                                                                                                                                                                                                                                                                                                                                                                                                                                                                                                                                                                                                                                                                                                                                               summary  \\\n",
       "1842  Help Separated Families Act of 2012 - Amends part E (Foster Care and Adoption Assistance) of title IV of the Social Security Act to: (1) require state child protection standards to ensure that the immigration status alone of a parent, legal guardian, or relative shall not disqualify the parent, legal guardian, or relative from being a placement for a child; and (2) require the state procedures for criminal records checks to require the state to accept foreign identification documents as sufficient identification for purposes of initiating a criminal records check or a fingerprint-based check.\\n\\nExpresses the sense of Congress that the child welfare agency of a state, or of any county or other political subdivision of a state, should grant a waiver of any requirement which would prevent the placement of a child with a relative of the child, on the basis of a minor legal infraction, if the relative would otherwise be considered eligible for such a placement.\\n\\nRequires the state plan for foster care and adoption assistance to notify relatives seeking placement of a child that their immigration status will not be questioned, except to the extent necessary in determining eligibility for relevant services or programs.\\n\\nProhibits a state or local government agency from filing for termination of parental rights in foster care cases based on the removal of the parent from the United States or the parent's involvement in an immigration proceeding, unless: (1) the state (or local agency) has made reasonable efforts to notify of the intention to file such a petition any parent of the child who has been removed from the United States, and any adult relative of the child, including through the diplomatic or consular offices of the country to which the parent was removed, and to reunify the child with any such parent or relative; or (2) the parent is unfit or unwilling to be a parent of the child.   \n",
       "\n",
       "                                                                                                                                                                                                                                                                                                                                                                                                                                                                                                                                                                                title  \n",
       "1842  To amend part E of title IV of the Social Security Act to ensure that immigration status alone does not disqualify a parent, legal guardian, or relative from being a placement for a foster child, to prohibit a State, county, or other political subdivision of a State from filing for termination of parental rights in foster care cases in which an otherwise fit and willing parent or legal guardian has been deported or is involved in (including detention pursuant to) an immigration proceeding, unless certain conditions have been met, and for other purposes.  "
      ]
     },
     "execution_count": 19,
     "metadata": {},
     "output_type": "execute_result"
    }
   ],
   "source": [
    "df_validation.head(1)"
   ]
  },
  {
   "cell_type": "markdown",
   "id": "f5882fbf-7692-4bb2-9f06-1c78d3b64ae5",
   "metadata": {},
   "source": [
    "### Sample test"
   ]
  },
  {
   "cell_type": "code",
   "execution_count": 20,
   "id": "5c544ce9-fd03-4b22-b3a0-d05916598852",
   "metadata": {},
   "outputs": [
    {
     "data": {
      "text/html": [
       "<div>\n",
       "<style scoped>\n",
       "    .dataframe tbody tr th:only-of-type {\n",
       "        vertical-align: middle;\n",
       "    }\n",
       "\n",
       "    .dataframe tbody tr th {\n",
       "        vertical-align: top;\n",
       "    }\n",
       "\n",
       "    .dataframe thead th {\n",
       "        text-align: right;\n",
       "    }\n",
       "</style>\n",
       "<table border=\"1\" class=\"dataframe\">\n",
       "  <thead>\n",
       "    <tr style=\"text-align: right;\">\n",
       "      <th></th>\n",
       "      <th>text</th>\n",
       "      <th>summary</th>\n",
       "      <th>title</th>\n",
       "    </tr>\n",
       "  </thead>\n",
       "  <tbody>\n",
       "    <tr>\n",
       "      <th>755</th>\n",
       "      <td>SECTION 1. SHORT TITLE.\\n\\n    This Act may be cited as the ``Unlawful Internet Gambling Funding \\nProhibition Act''.\\n\\nSEC. 2. FINDINGS.\\n\\n    The Congress finds as follows:\\n            (1) Internet gambling is primarily funded through personal \\n        use of bank instruments, including credit cards and wire \\n        transfers.\\n            (2) The National Gambling Impact Study Commission in 1999 \\n        recommended the passage of legislation to prohibit wire \\n        transfers to Internet gambling sites or the banks which \\n        represent them.\\n            (3) Internet gambling is a major cause of debt collection \\n        problems for insured depository institutions and the consumer \\n        credit industry.\\n            (4) Internet gambling conducted through offshore \\n        jurisdictions has been identified by United States law \\n        enforcement officials as a significant money laundering \\n        vulnerability.\\n\\nSEC. 3. POLICIES AND PROCEDURES REQUIRED TO PREVENT PAYMENTS FOR \\n              UNLAWFUL INTERNET GAMBLING.\\n\\n    (a) Regulations.--Before the end of the 6-month period beginning on \\nthe date of the enactment of this Act, the Federal functional \\nregulators shall prescribe regulations requiring any designated payment \\nsystem to establish policies and procedures reasonably designed to \\nidentify and prevent restricted transactions in any of the following \\nways:\\n            (1) The establishment of policies and procedures that--\\n                    (A) allow the payment system and any person \\n                involved in the payment system to identify restricted \\n                transactions by means of codes in authorization \\n                messages or by other means; and\\n                    (B) block restricted transactions identified as a \\n                result of the policies and procedures developed \\n                pursuant to subparagraph (A).\\n            (2) The establishment of policies and procedures that \\n        prevent the acceptance of the products or services of the \\n        payment system in connection with a restricted transaction.\\n    (b) Requirements for Policies and Procedures.--In prescribing \\nregulations pursuant to subsection (a), the Federal functional \\nregulators shall--\\n            (1) identify types of policies and procedures, including \\n        nonexclusive examples, which would be deemed to be ``reasonably \\n        designed to identify'' and ``reasonably designed to block'' or \\n        to ``prevent the acceptance of the products or services'' with \\n        respect to each type of transaction, such as, should credit \\n        card transactions be so designated, identifying transactions by \\n        a code or codes in the authorization message and denying \\n        authorization of a credit card transaction in response to an \\n        authorization message;\\n            (2) to the extent practical, permit any participant in a \\n        payment system to choose among alternative means of identifying \\n        and blocking, or otherwise preventing the acceptance of the \\n        products or services of the payment system or participant in \\n        connection with, restricted transactions; and\\n            (3) consider exempting restricted transactions from any \\n        requirement under subsection (a) if the Federal functional \\n        regulators find that it is not reasonably practical to identify \\n        and block, or otherwise prevent, such transactions.\\n    (c) Compliance With Payment System Policies and Procedures.--A \\ncreditor, credit card issuer, financial institution, operator of a \\nterminal at which an electronic fund transfer may be initiated, money \\ntransmitting business, or international, national, regional, or local \\nnetwork utilized to effect a credit transaction, electronic fund \\ntransfer, or money transmitting service, or a participant in such \\nnetwork, meets the requirement of subsection (a) if--\\n            (1) such person relies on and complies with the policies \\n        and procedures of a designated payment system of which it is a \\n        member or participant to--\\n                    (A) identify and block restricted transactions; or\\n                    (B) otherwise prevent the acceptance of the \\n                products or services of the payment system, member, or \\n                participant in connection with restricted transactions; \\n                and\\n            (2) such policies and procedures of the designated payment \\n        system comply with the requirements of regulations prescribed \\n        under subsection (a).\\n    (d) Enforcement.--\\n            (1) In general.--This section shall be enforced by the \\n        Federal functional regulators and the Federal Trade Commission \\n        under applicable law in the manner provided in section 505(a) \\n        of the Gramm-Leach-Bliley Act.\\n            (2) Factors to be considered.--In considering any \\n        enforcement action under this subsection against any payment \\n        system, or any participant in a payment system that is a \\n        creditor, credit card issuer, financial institution, operator \\n        of a terminal at which an electronic fund transfer may be \\n        initiated, money transmitting business, or international, \\n        national, regional, or local network utilized to effect a \\n        credit transaction, electronic fund transfer, or money \\n        transmitting service, or a participant in such network, the \\n        Federal functional regulators and the Federal Trade Commission \\n        shall consider the following factors:\\n                    (A) The extent to which such person is extending \\n                credit or transmitting funds knowing the transaction is \\n                in connection with unlawful Internet gambling.\\n                    (B) The history of such person in extending credit \\n                or transmitting funds knowing the transaction is in \\n                connection with unlawful Internet gambling.\\n                    (C) The extent to which such person has established \\n                and is maintaining policies and procedures in \\n                compliance with regulations prescribed under this \\n                subsection.\\n                    (D) The feasibility that any specific remedy \\n                prescribed can be implemented by such person without \\n                substantial deviation from normal business practice.\\n                    (E) The costs and burdens the specific remedy will \\n                have on such person.\\n\\nSEC. 4. DEFINITIONS.\\n\\n    For purposes of this Act, the following definitions shall apply:\\n            (1) Restricted transaction.--The term ``restricted \\n        transaction'' means any transaction or transmittal to any \\n        person engaged in the business of betting or wagering, in \\n        connection with the participation of another person in unlawful \\n        Internet gambling, of--\\n                    (A) credit, or the proceeds of credit, extended to \\n                or on behalf of such other person (including credit \\n                extended through the use of a credit card);\\n                    (B) an electronic fund transfer or funds \\n                transmitted by or through a money transmitting \\n                business, or the proceeds of an electronic fund \\n                transfer or money transmitting service, from or on \\n                behalf of the other person;\\n                    (C) any check, draft, or similar instrument which \\n                is drawn by or on behalf of the other person and is \\n                drawn on or payable at or through any financial \\n                institution; or\\n                    (D) the proceeds of any other form of financial \\n                transaction as the Federal functional regulators may \\n                prescribe by regulation which involves a financial \\n                institution as a payor or financial intermediary on \\n                behalf of or for the benefit of the other person.\\n            (2) Bets or wagers.--The term ``bets or wagers''--\\n                    (A) means the staking or risking by any person of \\n                something of value upon the outcome of a contest of \\n                others, a sporting event, or a game subject to chance, \\n                upon an agreement or understanding that the person or \\n                another person will receive something of greater value \\n                than the amount staked or risked in the event of a \\n                certain outcome;\\n                    (B) includes the purchase of a chance or \\n                opportunity to win a lottery or other prize (which \\n                opportunity to win is predominantly subject to chance);\\n                    (C) includes any scheme of a type described in \\n                section 3702 of title 28, United States Code;\\n                    (D) includes any instructions or information \\n                pertaining to the establishment or movement of funds in \\n                an account by the bettor or customer with the business \\n                of betting or wagering; and\\n                    (E) does not include--\\n                            (i) any activity governed by the securities \\n                        laws (as that term is defined in section \\n                        3(a)(47) of the Securities Exchange Act of \\n                        1934) for the purchase or sale of securities \\n                        (as that term is defined in section 3(a)(10) of \\n                        such Act);\\n                            (ii) any transaction conducted on or \\n                        subject to the rules of a registered entity or \\n                        exempt board of trade pursuant to the Commodity \\n                        Exchange Act;\\n                            (iii) any over-the-counter derivative \\n                        instrument;\\n                            (iv) any other transaction that--\\n                                    (I) is excluded or exempt from \\n                                regulation under the Commodity Exchange \\n                                Act; or\\n                                    (II) is exempt from State gaming or \\n                                bucket shop laws under section 12(e) of \\n                                the Commodity Exchange Act or section \\n                                28(a) of the Securities Exchange Act of \\n                                1934;\\n                            (v) any contract of indemnity or guarantee;\\n                            (vi) any contract for insurance;\\n                            (vii) any deposit or other transaction with \\n                        a depository institution (as defined in section \\n                        3(c) of the Federal Deposit Insurance Act);\\n                            (viii) any participation in a simulation \\n                        sports game or an educational game or contest \\n                        that--\\n                                    (I) is not dependent solely on the \\n                                outcome of any single sporting event or \\n                                nonparticipant's singular individual \\n                                performance in any single sporting \\n                                event;\\n                                    (II) has an outcome that reflects \\n                                the relative knowledge and skill of the \\n                                participants with such outcome \\n                                determined predominantly by accumulated \\n                                statistical results of sporting events; \\n                                and\\n                                    (III) offers a prize or award to a \\n                                participant that is established in \\n                                advance of the game or contest and is \\n                                not determined by the number of \\n                                participants or the amount of any fees \\n                                paid by those participants; and\\n                            (ix) any lawful transaction with a business \\n                        licensed or authorized by a State.\\n            (3) Designated payment system defined.--The term \\n        ``designated payment system'' means any system utilized by any \\n        creditor, credit card issuer, financial institution, operator \\n        of a terminal at which an electronic fund transfer may be \\n        initiated, money transmitting business, or international, \\n        national, regional, or local network utilized to effect a \\n        credit transaction, electronic fund transfer, or money \\n        transmitting service, or any participant in such network, that \\n        the Federal functional regulators determine, by regulation or \\n        order, could be utilized in connection with, or to facilitate, \\n        any restricted transaction.\\n            (4) Federal functional regulator.--The term ``Federal \\n        functional regulator'' has the same meaning as in section \\n        509(2) of the Gramm-Leach-Bliley Act.\\n            (5) Internet.--The term ``Internet'' means the \\n        international computer network of interoperable packet switched \\n        data networks.\\n            (6) Unlawful internet gambling.--The term ``unlawful \\n        Internet gambling'' means to place, receive, or otherwise \\n        transmit a bet or wager by any means which involves the use, at \\n        least in part, of the Internet where such bet or wager is \\n        unlawful under any applicable Federal or State law in the State \\n        in which the bet or wager is initiated, received, or otherwise \\n        made.\\n            (7) Other terms.--\\n                    (A) Credit; creditor; and credit card.--The terms \\n                ``credit'', ``creditor'', and ``credit card'' have the \\n                meanings given such terms in section 103 of the Truth \\n                in Lending Act.\\n                    (B) Electronic fund transfer.--The term \\n                ``electronic fund transfer''--\\n                            (i) has the meaning given such term in \\n                        section 903 of the Electronic Fund Transfer \\n                        Act; and\\n                            (ii) includes any fund transfer covered by \\n                        Article 4A of the Uniform Commercial Code, as \\n                        in effect in any State.\\n                    (C) Financial institution.--The term ``financial \\n                institution''--\\n                            (i) has the meaning given such term in \\n                        section 903 of the Electronic Fund Transfer \\n                        Act; and\\n                            (ii) includes any financial institution, as \\n                        defined in section 509(3) of the Gramm-Leach-\\n                        Bliley Act.\\n                    (D) Money transmitting business and money \\n                transmitting service.--The terms ``money transmitting \\n                business'' and ``money transmitting service'' have the \\n                meanings given such terms in section 5330(d) of title \\n                31, United States Code.\\n\\nSEC. 5. COMMON SENSE RULE OF CONSTRUCTION.\\n\\n    No provision of this Act shall be construed as altering, limiting, \\nextending, changing the status of, or otherwise affecting any law \\nrelating to, affecting, or regulating gambling within the United \\nStates.\\n\\n            Passed the House of Representatives June 10, 2003.\\n\\n            Attest:\\n\\n                                                 JEFF TRANDAHL,\\n\\n                                                                 Clerk.</td>\n",
       "      <td>Unlawful Internet Gambling Funding Prohibition Act - Directs Federal functional regulators, within six months of this Act's enactment, to prescribe regulations requiring any designated payment system to establish policies and procedures reasonably designed to: (1) identify restricted transactions by means of code in authorization messages or other means and to block such transactions; and (2) prevent the acceptance of the products or services of the payment system in connection with a restricted transaction. Defines a \"restricted transaction\" as any transaction or transmittal to anyone engaged in the business of betting or wagering in connection with another person's participation in unlawful Internet gambling of credit, electronic fund transfers, checks, or the proceeds of any other form of financial transaction as regulators may prescribe. Requires such regulators and the Federal Trade Commission to enforce such regulations (under applicable law in the manner provided under the Gramm-Leach-Bliley Act) after considering specified factors concerning the extent of the violation, the history of compliance, and the feasibility and burden of implementing a remedy. Requires regulators to consider exempting restricted transactions if the regulators find that it is not reasonably practical to identify and block, or otherwise prevent, such transactions.Provides that no provision of this Act shall be construed as affecting any law relating to, affecting, or regulating gambling within the United States.</td>\n",
       "      <td>To prevent the use of certain bank instruments for unlawful Internet gambling, and for other purposes.</td>\n",
       "    </tr>\n",
       "  </tbody>\n",
       "</table>\n",
       "</div>"
      ],
      "text/plain": [
       "                                                                                                                                                                                                                                                                                                                                                                                                                                                                                                                                                                                                                                                                                                                                                                                                                                                                                                                                                                                                                                                                                                                                                                                                                                                                                                                                                                                                                                                                                                                                                                                                                                                                                                                                                                                                                                                                                                                                                                                                                                                                                                                                                                                                                                                                                                                                                                                                                                                                                                                                                                                                                                                                                                                                                                                                                                                                                                                                                                                                                                                                                                                                                                                                                                                                                                                                                                                                                                                                                                                                                                                                                                                                                                                                                                                                                                                                                                                                                                                                                                                                                                                                                                                                                                                                                                                                                                                                                                                                                                                                                                                                                                                                                                                                                                                                                                                                                                                                                                                                                                                                                                                                                                                                                                                                                                                                                                                                                                                                                                                                                                                                                                                                                                                                                                                                                                                                                                                                                                                                                                                                                                                                                                                                                                                                                                                                                                                                                                                                                                                                                                                                                                                                                                                                                                                                                                                                                                                                                                                                                                                                                                                                                                                                                                                                                                                                                                                                                                                                                                                                                                                                                                                                                                                                                                                                                                                                                                                                                                                                                                                                                                                                                                                                                                                                                                                                                                                                                                                                                                                                                                                                                                                                                                                                                                                                                                                                                                                                                                                                                                                                                                                                                                                                                                                                                                                                                                                                                                                                                                                                                                                                                                                                                                                                                                                                                                                                                                                                                                                                                                                                                                                                                                                                                                                                                                                                                                                                                                                                                                                                                                                                                                                                                                                                                                                                                                                                                                                                                                                                                                                                                                                                                                                                                                                                                                                                                                                                                                                                                                                                                                                                                                                                                                                                                                                                                                                                                                                                                                                                                                                                                                                                                                                                                                                                                                                                                                                                                                                                                                                                                                                                                                                                                                                                                                                                                                                                                                                                                                                                                                                                                                                                                                                                                                                                                                                                                                                                                                                                                                                                                                                                                                                                                                                                                                                                                                                                                                                                                                                                                                                                                                                                                                                                                                                                                                                                                                                                                                                                                                                                                                                                                                                                                                                                                                                                                                                                                                                                                                                                                                                                                                                                                                                                                                                                                                                                                                                                                                                                                                                                                                                                                                                                                                                                                                                                                                                                                                                                                                                                                                                                                                                                                                                                                                                                                                                                                                                                                                                                                                                                                                                                                                       text  \\\n",
       "755  SECTION 1. SHORT TITLE.\\n\\n    This Act may be cited as the ``Unlawful Internet Gambling Funding \\nProhibition Act''.\\n\\nSEC. 2. FINDINGS.\\n\\n    The Congress finds as follows:\\n            (1) Internet gambling is primarily funded through personal \\n        use of bank instruments, including credit cards and wire \\n        transfers.\\n            (2) The National Gambling Impact Study Commission in 1999 \\n        recommended the passage of legislation to prohibit wire \\n        transfers to Internet gambling sites or the banks which \\n        represent them.\\n            (3) Internet gambling is a major cause of debt collection \\n        problems for insured depository institutions and the consumer \\n        credit industry.\\n            (4) Internet gambling conducted through offshore \\n        jurisdictions has been identified by United States law \\n        enforcement officials as a significant money laundering \\n        vulnerability.\\n\\nSEC. 3. POLICIES AND PROCEDURES REQUIRED TO PREVENT PAYMENTS FOR \\n              UNLAWFUL INTERNET GAMBLING.\\n\\n    (a) Regulations.--Before the end of the 6-month period beginning on \\nthe date of the enactment of this Act, the Federal functional \\nregulators shall prescribe regulations requiring any designated payment \\nsystem to establish policies and procedures reasonably designed to \\nidentify and prevent restricted transactions in any of the following \\nways:\\n            (1) The establishment of policies and procedures that--\\n                    (A) allow the payment system and any person \\n                involved in the payment system to identify restricted \\n                transactions by means of codes in authorization \\n                messages or by other means; and\\n                    (B) block restricted transactions identified as a \\n                result of the policies and procedures developed \\n                pursuant to subparagraph (A).\\n            (2) The establishment of policies and procedures that \\n        prevent the acceptance of the products or services of the \\n        payment system in connection with a restricted transaction.\\n    (b) Requirements for Policies and Procedures.--In prescribing \\nregulations pursuant to subsection (a), the Federal functional \\nregulators shall--\\n            (1) identify types of policies and procedures, including \\n        nonexclusive examples, which would be deemed to be ``reasonably \\n        designed to identify'' and ``reasonably designed to block'' or \\n        to ``prevent the acceptance of the products or services'' with \\n        respect to each type of transaction, such as, should credit \\n        card transactions be so designated, identifying transactions by \\n        a code or codes in the authorization message and denying \\n        authorization of a credit card transaction in response to an \\n        authorization message;\\n            (2) to the extent practical, permit any participant in a \\n        payment system to choose among alternative means of identifying \\n        and blocking, or otherwise preventing the acceptance of the \\n        products or services of the payment system or participant in \\n        connection with, restricted transactions; and\\n            (3) consider exempting restricted transactions from any \\n        requirement under subsection (a) if the Federal functional \\n        regulators find that it is not reasonably practical to identify \\n        and block, or otherwise prevent, such transactions.\\n    (c) Compliance With Payment System Policies and Procedures.--A \\ncreditor, credit card issuer, financial institution, operator of a \\nterminal at which an electronic fund transfer may be initiated, money \\ntransmitting business, or international, national, regional, or local \\nnetwork utilized to effect a credit transaction, electronic fund \\ntransfer, or money transmitting service, or a participant in such \\nnetwork, meets the requirement of subsection (a) if--\\n            (1) such person relies on and complies with the policies \\n        and procedures of a designated payment system of which it is a \\n        member or participant to--\\n                    (A) identify and block restricted transactions; or\\n                    (B) otherwise prevent the acceptance of the \\n                products or services of the payment system, member, or \\n                participant in connection with restricted transactions; \\n                and\\n            (2) such policies and procedures of the designated payment \\n        system comply with the requirements of regulations prescribed \\n        under subsection (a).\\n    (d) Enforcement.--\\n            (1) In general.--This section shall be enforced by the \\n        Federal functional regulators and the Federal Trade Commission \\n        under applicable law in the manner provided in section 505(a) \\n        of the Gramm-Leach-Bliley Act.\\n            (2) Factors to be considered.--In considering any \\n        enforcement action under this subsection against any payment \\n        system, or any participant in a payment system that is a \\n        creditor, credit card issuer, financial institution, operator \\n        of a terminal at which an electronic fund transfer may be \\n        initiated, money transmitting business, or international, \\n        national, regional, or local network utilized to effect a \\n        credit transaction, electronic fund transfer, or money \\n        transmitting service, or a participant in such network, the \\n        Federal functional regulators and the Federal Trade Commission \\n        shall consider the following factors:\\n                    (A) The extent to which such person is extending \\n                credit or transmitting funds knowing the transaction is \\n                in connection with unlawful Internet gambling.\\n                    (B) The history of such person in extending credit \\n                or transmitting funds knowing the transaction is in \\n                connection with unlawful Internet gambling.\\n                    (C) The extent to which such person has established \\n                and is maintaining policies and procedures in \\n                compliance with regulations prescribed under this \\n                subsection.\\n                    (D) The feasibility that any specific remedy \\n                prescribed can be implemented by such person without \\n                substantial deviation from normal business practice.\\n                    (E) The costs and burdens the specific remedy will \\n                have on such person.\\n\\nSEC. 4. DEFINITIONS.\\n\\n    For purposes of this Act, the following definitions shall apply:\\n            (1) Restricted transaction.--The term ``restricted \\n        transaction'' means any transaction or transmittal to any \\n        person engaged in the business of betting or wagering, in \\n        connection with the participation of another person in unlawful \\n        Internet gambling, of--\\n                    (A) credit, or the proceeds of credit, extended to \\n                or on behalf of such other person (including credit \\n                extended through the use of a credit card);\\n                    (B) an electronic fund transfer or funds \\n                transmitted by or through a money transmitting \\n                business, or the proceeds of an electronic fund \\n                transfer or money transmitting service, from or on \\n                behalf of the other person;\\n                    (C) any check, draft, or similar instrument which \\n                is drawn by or on behalf of the other person and is \\n                drawn on or payable at or through any financial \\n                institution; or\\n                    (D) the proceeds of any other form of financial \\n                transaction as the Federal functional regulators may \\n                prescribe by regulation which involves a financial \\n                institution as a payor or financial intermediary on \\n                behalf of or for the benefit of the other person.\\n            (2) Bets or wagers.--The term ``bets or wagers''--\\n                    (A) means the staking or risking by any person of \\n                something of value upon the outcome of a contest of \\n                others, a sporting event, or a game subject to chance, \\n                upon an agreement or understanding that the person or \\n                another person will receive something of greater value \\n                than the amount staked or risked in the event of a \\n                certain outcome;\\n                    (B) includes the purchase of a chance or \\n                opportunity to win a lottery or other prize (which \\n                opportunity to win is predominantly subject to chance);\\n                    (C) includes any scheme of a type described in \\n                section 3702 of title 28, United States Code;\\n                    (D) includes any instructions or information \\n                pertaining to the establishment or movement of funds in \\n                an account by the bettor or customer with the business \\n                of betting or wagering; and\\n                    (E) does not include--\\n                            (i) any activity governed by the securities \\n                        laws (as that term is defined in section \\n                        3(a)(47) of the Securities Exchange Act of \\n                        1934) for the purchase or sale of securities \\n                        (as that term is defined in section 3(a)(10) of \\n                        such Act);\\n                            (ii) any transaction conducted on or \\n                        subject to the rules of a registered entity or \\n                        exempt board of trade pursuant to the Commodity \\n                        Exchange Act;\\n                            (iii) any over-the-counter derivative \\n                        instrument;\\n                            (iv) any other transaction that--\\n                                    (I) is excluded or exempt from \\n                                regulation under the Commodity Exchange \\n                                Act; or\\n                                    (II) is exempt from State gaming or \\n                                bucket shop laws under section 12(e) of \\n                                the Commodity Exchange Act or section \\n                                28(a) of the Securities Exchange Act of \\n                                1934;\\n                            (v) any contract of indemnity or guarantee;\\n                            (vi) any contract for insurance;\\n                            (vii) any deposit or other transaction with \\n                        a depository institution (as defined in section \\n                        3(c) of the Federal Deposit Insurance Act);\\n                            (viii) any participation in a simulation \\n                        sports game or an educational game or contest \\n                        that--\\n                                    (I) is not dependent solely on the \\n                                outcome of any single sporting event or \\n                                nonparticipant's singular individual \\n                                performance in any single sporting \\n                                event;\\n                                    (II) has an outcome that reflects \\n                                the relative knowledge and skill of the \\n                                participants with such outcome \\n                                determined predominantly by accumulated \\n                                statistical results of sporting events; \\n                                and\\n                                    (III) offers a prize or award to a \\n                                participant that is established in \\n                                advance of the game or contest and is \\n                                not determined by the number of \\n                                participants or the amount of any fees \\n                                paid by those participants; and\\n                            (ix) any lawful transaction with a business \\n                        licensed or authorized by a State.\\n            (3) Designated payment system defined.--The term \\n        ``designated payment system'' means any system utilized by any \\n        creditor, credit card issuer, financial institution, operator \\n        of a terminal at which an electronic fund transfer may be \\n        initiated, money transmitting business, or international, \\n        national, regional, or local network utilized to effect a \\n        credit transaction, electronic fund transfer, or money \\n        transmitting service, or any participant in such network, that \\n        the Federal functional regulators determine, by regulation or \\n        order, could be utilized in connection with, or to facilitate, \\n        any restricted transaction.\\n            (4) Federal functional regulator.--The term ``Federal \\n        functional regulator'' has the same meaning as in section \\n        509(2) of the Gramm-Leach-Bliley Act.\\n            (5) Internet.--The term ``Internet'' means the \\n        international computer network of interoperable packet switched \\n        data networks.\\n            (6) Unlawful internet gambling.--The term ``unlawful \\n        Internet gambling'' means to place, receive, or otherwise \\n        transmit a bet or wager by any means which involves the use, at \\n        least in part, of the Internet where such bet or wager is \\n        unlawful under any applicable Federal or State law in the State \\n        in which the bet or wager is initiated, received, or otherwise \\n        made.\\n            (7) Other terms.--\\n                    (A) Credit; creditor; and credit card.--The terms \\n                ``credit'', ``creditor'', and ``credit card'' have the \\n                meanings given such terms in section 103 of the Truth \\n                in Lending Act.\\n                    (B) Electronic fund transfer.--The term \\n                ``electronic fund transfer''--\\n                            (i) has the meaning given such term in \\n                        section 903 of the Electronic Fund Transfer \\n                        Act; and\\n                            (ii) includes any fund transfer covered by \\n                        Article 4A of the Uniform Commercial Code, as \\n                        in effect in any State.\\n                    (C) Financial institution.--The term ``financial \\n                institution''--\\n                            (i) has the meaning given such term in \\n                        section 903 of the Electronic Fund Transfer \\n                        Act; and\\n                            (ii) includes any financial institution, as \\n                        defined in section 509(3) of the Gramm-Leach-\\n                        Bliley Act.\\n                    (D) Money transmitting business and money \\n                transmitting service.--The terms ``money transmitting \\n                business'' and ``money transmitting service'' have the \\n                meanings given such terms in section 5330(d) of title \\n                31, United States Code.\\n\\nSEC. 5. COMMON SENSE RULE OF CONSTRUCTION.\\n\\n    No provision of this Act shall be construed as altering, limiting, \\nextending, changing the status of, or otherwise affecting any law \\nrelating to, affecting, or regulating gambling within the United \\nStates.\\n\\n            Passed the House of Representatives June 10, 2003.\\n\\n            Attest:\\n\\n                                                 JEFF TRANDAHL,\\n\\n                                                                 Clerk.   \n",
       "\n",
       "                                                                                                                                                                                                                                                                                                                                                                                                                                                                                                                                                                                                                                                                                                                                                                                                                                                                                                                                                                                                                                                                                                                                                                                                                                                                                                                                                                                                                                                                                                                                                                            summary  \\\n",
       "755  Unlawful Internet Gambling Funding Prohibition Act - Directs Federal functional regulators, within six months of this Act's enactment, to prescribe regulations requiring any designated payment system to establish policies and procedures reasonably designed to: (1) identify restricted transactions by means of code in authorization messages or other means and to block such transactions; and (2) prevent the acceptance of the products or services of the payment system in connection with a restricted transaction. Defines a \"restricted transaction\" as any transaction or transmittal to anyone engaged in the business of betting or wagering in connection with another person's participation in unlawful Internet gambling of credit, electronic fund transfers, checks, or the proceeds of any other form of financial transaction as regulators may prescribe. Requires such regulators and the Federal Trade Commission to enforce such regulations (under applicable law in the manner provided under the Gramm-Leach-Bliley Act) after considering specified factors concerning the extent of the violation, the history of compliance, and the feasibility and burden of implementing a remedy. Requires regulators to consider exempting restricted transactions if the regulators find that it is not reasonably practical to identify and block, or otherwise prevent, such transactions.Provides that no provision of this Act shall be construed as affecting any law relating to, affecting, or regulating gambling within the United States.   \n",
       "\n",
       "                                                                                                      title  \n",
       "755  To prevent the use of certain bank instruments for unlawful Internet gambling, and for other purposes.  "
      ]
     },
     "execution_count": 20,
     "metadata": {},
     "output_type": "execute_result"
    }
   ],
   "source": [
    "df_test.head(1)"
   ]
  },
  {
   "cell_type": "markdown",
   "id": "e503af82-0bda-429c-86d2-23a775d46046",
   "metadata": {},
   "source": [
    "### Saving datasets into csv files"
   ]
  },
  {
   "cell_type": "code",
   "execution_count": 7,
   "id": "54520d89-9b58-49ff-8b48-08046c4d3aa7",
   "metadata": {},
   "outputs": [],
   "source": [
    "ds_path = f\"{DIR}/dataset\"\n",
    "train_ds_file = \"billsum_train.csv\"\n",
    "validation_ds_file = \"billsum_validation.csv\"\n",
    "test_ds_file = \"billsum_test.csv\""
   ]
  },
  {
   "cell_type": "markdown",
   "id": "eaa338c1-ac54-4f88-9d11-33b1cd966ef0",
   "metadata": {},
   "source": [
    "#### Save"
   ]
  },
  {
   "cell_type": "code",
   "execution_count": 22,
   "id": "d0cc1c81-57bb-4c68-a19a-6fb3606ae96c",
   "metadata": {},
   "outputs": [],
   "source": [
    "df_train.to_csv(f\"{ds_path}/{train_ds_file}\", index=False)\n",
    "df_validation.to_csv(f\"{ds_path}/{validation_ds_file}\", index=False)\n",
    "df_test.to_csv(f\"{ds_path}/{test_ds_file}\", index=False)"
   ]
  },
  {
   "cell_type": "markdown",
   "id": "1cceb2f6-8e1d-45ad-8476-5cb5dcf35fc2",
   "metadata": {},
   "source": [
    "# Preprocess"
   ]
  },
  {
   "cell_type": "markdown",
   "id": "b4517aab-8a25-4653-aa1b-e78d264db6a3",
   "metadata": {},
   "source": [
    "### Tokenization"
   ]
  },
  {
   "cell_type": "code",
   "execution_count": 6,
   "id": "03ae145c-074e-4e49-8ac2-bd2533bc6c2e",
   "metadata": {},
   "outputs": [],
   "source": [
    "checkpoint = \"t5-small\""
   ]
  },
  {
   "cell_type": "code",
   "execution_count": 7,
   "id": "22d04754-4d60-4d7e-8279-6c0b5a0b43a6",
   "metadata": {},
   "outputs": [
    {
     "data": {
      "application/vnd.jupyter.widget-view+json": {
       "model_id": "f775a8e5c43c49f68376706303021705",
       "version_major": 2,
       "version_minor": 0
      },
      "text/plain": [
       "Downloading tokenizer_config.json:   0%|          | 0.00/2.27k [00:00<?, ?B/s]"
      ]
     },
     "metadata": {},
     "output_type": "display_data"
    },
    {
     "data": {
      "application/vnd.jupyter.widget-view+json": {
       "model_id": "05baf5f10ddf4312af8217fcdf40f1b6",
       "version_major": 2,
       "version_minor": 0
      },
      "text/plain": [
       "Downloading spiece.model:   0%|          | 0.00/773k [00:00<?, ?B/s]"
      ]
     },
     "metadata": {},
     "output_type": "display_data"
    },
    {
     "data": {
      "application/vnd.jupyter.widget-view+json": {
       "model_id": "6ec986b1fdd14c35aad7d69da1db72c8",
       "version_major": 2,
       "version_minor": 0
      },
      "text/plain": [
       "Downloading tokenizer.json:   0%|          | 0.00/1.32M [00:00<?, ?B/s]"
      ]
     },
     "metadata": {},
     "output_type": "display_data"
    }
   ],
   "source": [
    "tokenizer = AutoTokenizer.from_pretrained(checkpoint)"
   ]
  },
  {
   "cell_type": "code",
   "execution_count": 8,
   "id": "b75be47b-7fbc-441a-b03c-a646b1b59487",
   "metadata": {},
   "outputs": [],
   "source": [
    "def preprocess_function(examples, max_length_inputs=1024, max_length_labels=128):\n",
    "    inputs = [\"summarize: \" + doc for doc in examples[\"text\"]]\n",
    "    model_inputs = tokenizer(inputs, max_length=max_length_inputs, truncation=True)\n",
    "    \n",
    "    with tokenizer.as_target_tokenizer():\n",
    "        labels = tokenizer(examples[\"summary\"], max_length=max_length_labels, truncation=True)\n",
    "\n",
    "    model_inputs[\"labels\"] = labels[\"input_ids\"]\n",
    "    return model_inputs"
   ]
  },
  {
   "cell_type": "code",
   "execution_count": 9,
   "id": "c3da66b4-525a-44c3-b977-79cd551cd746",
   "metadata": {},
   "outputs": [
    {
     "data": {
      "text/plain": [
       "DatasetDict({\n",
       "    train: Dataset({\n",
       "        features: ['text', 'summary', 'title'],\n",
       "        num_rows: 15159\n",
       "    })\n",
       "    test: Dataset({\n",
       "        features: ['text', 'summary', 'title'],\n",
       "        num_rows: 3790\n",
       "    })\n",
       "})"
      ]
     },
     "execution_count": 9,
     "metadata": {},
     "output_type": "execute_result"
    }
   ],
   "source": [
    "train_test_valid"
   ]
  },
  {
   "cell_type": "code",
   "execution_count": 10,
   "id": "7758b6ab-af5e-491b-9588-a5af12067eb7",
   "metadata": {},
   "outputs": [
    {
     "data": {
      "text/plain": [
       "DatasetDict({\n",
       "    train: Dataset({\n",
       "        features: ['text', 'summary', 'title'],\n",
       "        num_rows: 1895\n",
       "    })\n",
       "    test: Dataset({\n",
       "        features: ['text', 'summary', 'title'],\n",
       "        num_rows: 1895\n",
       "    })\n",
       "})"
      ]
     },
     "execution_count": 10,
     "metadata": {},
     "output_type": "execute_result"
    }
   ],
   "source": [
    "test_valid"
   ]
  },
  {
   "cell_type": "code",
   "execution_count": 11,
   "id": "2501cffa-7ce2-4098-a60e-436eda6eaa2a",
   "metadata": {},
   "outputs": [
    {
     "data": {
      "application/vnd.jupyter.widget-view+json": {
       "model_id": "58a0b3fc313e40eeaf580c62d150333f",
       "version_major": 2,
       "version_minor": 0
      },
      "text/plain": [
       "  0%|          | 0/16 [00:00<?, ?ba/s]"
      ]
     },
     "metadata": {},
     "output_type": "display_data"
    },
    {
     "data": {
      "application/vnd.jupyter.widget-view+json": {
       "model_id": "647a397f160345ac8db14d532d489767",
       "version_major": 2,
       "version_minor": 0
      },
      "text/plain": [
       "  0%|          | 0/4 [00:00<?, ?ba/s]"
      ]
     },
     "metadata": {},
     "output_type": "display_data"
    }
   ],
   "source": [
    "tokenized_train = train_test_valid.map(preprocess_function, batched=True)"
   ]
  },
  {
   "cell_type": "code",
   "execution_count": 12,
   "id": "ad75da53-d32e-4766-a13e-818d87fae48f",
   "metadata": {},
   "outputs": [
    {
     "data": {
      "text/plain": [
       "DatasetDict({\n",
       "    train: Dataset({\n",
       "        features: ['text', 'summary', 'title', 'input_ids', 'attention_mask', 'labels'],\n",
       "        num_rows: 15159\n",
       "    })\n",
       "    test: Dataset({\n",
       "        features: ['text', 'summary', 'title', 'input_ids', 'attention_mask', 'labels'],\n",
       "        num_rows: 3790\n",
       "    })\n",
       "})"
      ]
     },
     "execution_count": 12,
     "metadata": {},
     "output_type": "execute_result"
    }
   ],
   "source": [
    "tokenized_train"
   ]
  },
  {
   "cell_type": "code",
   "execution_count": 13,
   "id": "a8af14c3-31d6-44d1-af1c-88ca057cc7e2",
   "metadata": {},
   "outputs": [
    {
     "data": {
      "application/vnd.jupyter.widget-view+json": {
       "model_id": "96dabf3fec304c87a0bba6aac1c4682e",
       "version_major": 2,
       "version_minor": 0
      },
      "text/plain": [
       "  0%|          | 0/2 [00:00<?, ?ba/s]"
      ]
     },
     "metadata": {},
     "output_type": "display_data"
    }
   ],
   "source": [
    "tokenized_validation = test_valid[\"train\"].map(preprocess_function, batched=True)"
   ]
  },
  {
   "cell_type": "code",
   "execution_count": 14,
   "id": "8487db81-7621-4cc8-b4b5-530a1ef23ec2",
   "metadata": {},
   "outputs": [
    {
     "data": {
      "text/plain": [
       "Dataset({\n",
       "    features: ['text', 'summary', 'title', 'input_ids', 'attention_mask', 'labels'],\n",
       "    num_rows: 1895\n",
       "})"
      ]
     },
     "execution_count": 14,
     "metadata": {},
     "output_type": "execute_result"
    }
   ],
   "source": [
    "tokenized_validation"
   ]
  },
  {
   "cell_type": "code",
   "execution_count": 15,
   "id": "446db552-76b8-4a55-a765-7dddbb51962f",
   "metadata": {},
   "outputs": [
    {
     "data": {
      "application/vnd.jupyter.widget-view+json": {
       "model_id": "f3c6b5ee0fec42ce8266f700ca2dc96f",
       "version_major": 2,
       "version_minor": 0
      },
      "text/plain": [
       "  0%|          | 0/2 [00:00<?, ?ba/s]"
      ]
     },
     "metadata": {},
     "output_type": "display_data"
    }
   ],
   "source": [
    "tokenized_test = test_valid[\"test\"].map(preprocess_function, batched=True)"
   ]
  },
  {
   "cell_type": "code",
   "execution_count": 16,
   "id": "5ae3e0ce-7806-440c-9eb5-885723424020",
   "metadata": {},
   "outputs": [
    {
     "data": {
      "text/plain": [
       "Dataset({\n",
       "    features: ['text', 'summary', 'title', 'input_ids', 'attention_mask', 'labels'],\n",
       "    num_rows: 1895\n",
       "})"
      ]
     },
     "execution_count": 16,
     "metadata": {},
     "output_type": "execute_result"
    }
   ],
   "source": [
    "tokenized_test"
   ]
  },
  {
   "cell_type": "markdown",
   "id": "c62701b8-f656-402c-83e8-87e95c8231b0",
   "metadata": {},
   "source": [
    "### Data Collator"
   ]
  },
  {
   "cell_type": "code",
   "execution_count": 17,
   "id": "040b2486-72da-4b0d-ac6f-9a7b14b2abdc",
   "metadata": {},
   "outputs": [],
   "source": [
    "data_collator = DataCollatorForSeq2Seq(tokenizer=tokenizer, model=checkpoint)"
   ]
  },
  {
   "cell_type": "markdown",
   "id": "6dec17cb-2e33-47a1-95a9-c3ae8539428b",
   "metadata": {},
   "source": [
    "### Evaluation Metric"
   ]
  },
  {
   "cell_type": "code",
   "execution_count": 18,
   "id": "5fb90b87-9980-4a53-a536-be639a55df85",
   "metadata": {},
   "outputs": [
    {
     "data": {
      "application/vnd.jupyter.widget-view+json": {
       "model_id": "abbc8ca2899c4c8996ae2d3999c3e587",
       "version_major": 2,
       "version_minor": 0
      },
      "text/plain": [
       "Downloading builder script:   0%|          | 0.00/6.27k [00:00<?, ?B/s]"
      ]
     },
     "metadata": {},
     "output_type": "display_data"
    }
   ],
   "source": [
    "rouge = evaluate.load(\"rouge\")\n",
    "\n",
    "def compute_metrics(eval_pred):\n",
    "    predictions, labels = eval_pred\n",
    "    decoded_preds = tokenizer.batch_decode(predictions, skip_special_tokens=True)\n",
    "    labels = np.where(labels != -100, labels, tokenizer.pad_token_id)\n",
    "    decoded_labels = tokenizer.batch_decode(labels, skip_special_tokens=True)\n",
    "\n",
    "    result = rouge.compute(predictions=decoded_preds, references=decoded_labels, use_stemmer=True)\n",
    "\n",
    "    prediction_lens = [np.count_nonzero(pred != tokenizer.pad_token_id) for pred in predictions]\n",
    "    result[\"gen_len\"] = np.mean(prediction_lens)\n",
    "\n",
    "    return {k: round(v, 4) for k, v in result.items()}"
   ]
  },
  {
   "cell_type": "markdown",
   "id": "0d67b19e-6d11-4509-b47a-83313ab3342b",
   "metadata": {},
   "source": [
    "### Model"
   ]
  },
  {
   "cell_type": "code",
   "execution_count": 19,
   "id": "fa31ec62-1545-4440-9ff7-c062c86c5ead",
   "metadata": {},
   "outputs": [],
   "source": [
    "model_config = T5Config(decoder_start_token_id=tokenizer.convert_tokens_to_ids([\"<pad>\"])[0])\n",
    "model = AutoModelForSeq2SeqLM.from_config(model_config)"
   ]
  },
  {
   "cell_type": "markdown",
   "id": "9f7ea0b9-1775-4059-90b0-b070403dcaa8",
   "metadata": {},
   "source": [
    "# Train"
   ]
  },
  {
   "cell_type": "markdown",
   "id": "92ce8b29-8b16-45fc-9b90-c19d62446e28",
   "metadata": {},
   "source": [
    "### Hyper-Parameters"
   ]
  },
  {
   "cell_type": "code",
   "execution_count": 20,
   "id": "91024ce7-02b6-4fdf-a677-51ebc3b91de7",
   "metadata": {},
   "outputs": [],
   "source": [
    "training_args = Seq2SeqTrainingArguments(\n",
    "    output_dir=\"./output/results\",\n",
    "    evaluation_strategy=\"epoch\",\n",
    "    learning_rate=2e-5,\n",
    "    per_device_train_batch_size=16,\n",
    "    per_device_eval_batch_size=16,\n",
    "    weight_decay=0.01,\n",
    "    save_total_limit=3,\n",
    "    num_train_epochs=12,\n",
    "    predict_with_generate=True,\n",
    "    fp16=True,\n",
    ")"
   ]
  },
  {
   "cell_type": "code",
   "execution_count": 21,
   "id": "25b40d33-a5a1-45f7-baa3-4f4dad85b855",
   "metadata": {},
   "outputs": [
    {
     "name": "stdout",
     "output_type": "stream",
     "text": [
      "huggingface/tokenizers: The current process just got forked, after parallelism has already been used. Disabling parallelism to avoid deadlocks...\n",
      "To disable this warning, you can either:\n",
      "\t- Avoid using `tokenizers` before the fork if possible\n",
      "\t- Explicitly set the environment variable TOKENIZERS_PARALLELISM=(true | false)\n",
      "huggingface/tokenizers: The current process just got forked, after parallelism has already been used. Disabling parallelism to avoid deadlocks...\n",
      "To disable this warning, you can either:\n",
      "\t- Avoid using `tokenizers` before the fork if possible\n",
      "\t- Explicitly set the environment variable TOKENIZERS_PARALLELISM=(true | false)\n"
     ]
    },
    {
     "name": "stderr",
     "output_type": "stream",
     "text": [
      "Using cuda_amp half precision backend\n"
     ]
    },
    {
     "name": "stdout",
     "output_type": "stream",
     "text": [
      "huggingface/tokenizers: The current process just got forked, after parallelism has already been used. Disabling parallelism to avoid deadlocks...\n",
      "To disable this warning, you can either:\n",
      "\t- Avoid using `tokenizers` before the fork if possible\n",
      "\t- Explicitly set the environment variable TOKENIZERS_PARALLELISM=(true | false)\n"
     ]
    }
   ],
   "source": [
    "trainer = Seq2SeqTrainer(\n",
    "    model=model,\n",
    "    args=training_args,\n",
    "    train_dataset=tokenized_train[\"train\"],\n",
    "    eval_dataset=tokenized_validation,\n",
    "    tokenizer=tokenizer,\n",
    "    data_collator=data_collator,\n",
    "    compute_metrics=compute_metrics,\n",
    ")"
   ]
  },
  {
   "cell_type": "code",
   "execution_count": 22,
   "id": "5667c4d8-552b-478c-8df3-3cc10553b9f7",
   "metadata": {},
   "outputs": [
    {
     "name": "stderr",
     "output_type": "stream",
     "text": [
      "The following columns in the training set don't have a corresponding argument in `T5ForConditionalGeneration.forward` and have been ignored: summary, title, text. If summary, title, text are not expected by `T5ForConditionalGeneration.forward`,  you can safely ignore this message.\n",
      "/usr/local/lib/python3.9/dist-packages/transformers/optimization.py:306: FutureWarning: This implementation of AdamW is deprecated and will be removed in a future version. Use the PyTorch implementation torch.optim.AdamW instead, or set `no_deprecation_warning=True` to disable this warning\n",
      "  warnings.warn(\n",
      "***** Running training *****\n",
      "  Num examples = 15159\n",
      "  Num Epochs = 12\n",
      "  Instantaneous batch size per device = 16\n",
      "  Total train batch size (w. parallel, distributed & accumulation) = 16\n",
      "  Gradient Accumulation steps = 1\n",
      "  Total optimization steps = 11376\n",
      "Automatic Weights & Biases logging enabled, to disable set os.environ[\"WANDB_DISABLED\"] = \"true\"\n"
     ]
    },
    {
     "name": "stdout",
     "output_type": "stream",
     "text": [
      "huggingface/tokenizers: The current process just got forked, after parallelism has already been used. Disabling parallelism to avoid deadlocks...\n",
      "To disable this warning, you can either:\n",
      "\t- Avoid using `tokenizers` before the fork if possible\n",
      "\t- Explicitly set the environment variable TOKENIZERS_PARALLELISM=(true | false)\n"
     ]
    },
    {
     "name": "stderr",
     "output_type": "stream",
     "text": [
      "\u001b[34m\u001b[1mwandb\u001b[0m: Logging into wandb.ai. (Learn how to deploy a W&B server locally: https://wandb.me/wandb-server)\n",
      "\u001b[34m\u001b[1mwandb\u001b[0m: You can find your API key in your browser here: https://wandb.ai/authorize\n",
      "\u001b[34m\u001b[1mwandb\u001b[0m: Paste an API key from your profile and hit enter, or press ctrl+c to quit:"
     ]
    },
    {
     "name": "stdin",
     "output_type": "stream",
     "text": [
      "  ········\n"
     ]
    },
    {
     "name": "stderr",
     "output_type": "stream",
     "text": [
      "\u001b[34m\u001b[1mwandb\u001b[0m: Appending key for api.wandb.ai to your netrc file: /root/.netrc\n"
     ]
    },
    {
     "name": "stdout",
     "output_type": "stream",
     "text": [
      "huggingface/tokenizers: The current process just got forked, after parallelism has already been used. Disabling parallelism to avoid deadlocks...\n",
      "To disable this warning, you can either:\n",
      "\t- Avoid using `tokenizers` before the fork if possible\n",
      "\t- Explicitly set the environment variable TOKENIZERS_PARALLELISM=(true | false)\n"
     ]
    },
    {
     "data": {
      "text/html": [
       "wandb version 0.16.0 is available!  To upgrade, please run:\n",
       " $ pip install wandb --upgrade"
      ],
      "text/plain": [
       "<IPython.core.display.HTML object>"
      ]
     },
     "metadata": {},
     "output_type": "display_data"
    },
    {
     "data": {
      "text/html": [
       "Tracking run with wandb version 0.13.4"
      ],
      "text/plain": [
       "<IPython.core.display.HTML object>"
      ]
     },
     "metadata": {},
     "output_type": "display_data"
    },
    {
     "data": {
      "text/html": [
       "Run data is saved locally in <code>/notebooks/custom/wandb/run-20231128_223212-3straron</code>"
      ],
      "text/plain": [
       "<IPython.core.display.HTML object>"
      ]
     },
     "metadata": {},
     "output_type": "display_data"
    },
    {
     "data": {
      "text/html": [
       "Syncing run <strong><a href=\"https://wandb.ai/lambton-college/huggingface/runs/3straron\" target=\"_blank\">./output/results</a></strong> to <a href=\"https://wandb.ai/lambton-college/huggingface\" target=\"_blank\">Weights & Biases</a> (<a href=\"https://wandb.me/run\" target=\"_blank\">docs</a>)<br/>"
      ],
      "text/plain": [
       "<IPython.core.display.HTML object>"
      ]
     },
     "metadata": {},
     "output_type": "display_data"
    },
    {
     "data": {
      "text/html": [
       "\n",
       "    <div>\n",
       "      \n",
       "      <progress value='11376' max='11376' style='width:300px; height:20px; vertical-align: middle;'></progress>\n",
       "      [11376/11376 4:49:17, Epoch 12/12]\n",
       "    </div>\n",
       "    <table border=\"1\" class=\"dataframe\">\n",
       "  <thead>\n",
       " <tr style=\"text-align: left;\">\n",
       "      <th>Epoch</th>\n",
       "      <th>Training Loss</th>\n",
       "      <th>Validation Loss</th>\n",
       "      <th>Rouge1</th>\n",
       "      <th>Rouge2</th>\n",
       "      <th>Rougel</th>\n",
       "      <th>Rougelsum</th>\n",
       "      <th>Gen Len</th>\n",
       "    </tr>\n",
       "  </thead>\n",
       "  <tbody>\n",
       "    <tr>\n",
       "      <td>1</td>\n",
       "      <td>7.850000</td>\n",
       "      <td>6.778646</td>\n",
       "      <td>0.179400</td>\n",
       "      <td>0.056300</td>\n",
       "      <td>0.161100</td>\n",
       "      <td>0.161100</td>\n",
       "      <td>19.000000</td>\n",
       "    </tr>\n",
       "    <tr>\n",
       "      <td>2</td>\n",
       "      <td>6.784100</td>\n",
       "      <td>6.371436</td>\n",
       "      <td>0.157700</td>\n",
       "      <td>0.052200</td>\n",
       "      <td>0.136100</td>\n",
       "      <td>0.136100</td>\n",
       "      <td>19.000000</td>\n",
       "    </tr>\n",
       "    <tr>\n",
       "      <td>3</td>\n",
       "      <td>6.414500</td>\n",
       "      <td>6.082403</td>\n",
       "      <td>0.173600</td>\n",
       "      <td>0.061500</td>\n",
       "      <td>0.151000</td>\n",
       "      <td>0.150900</td>\n",
       "      <td>19.000000</td>\n",
       "    </tr>\n",
       "    <tr>\n",
       "      <td>4</td>\n",
       "      <td>6.139200</td>\n",
       "      <td>5.871485</td>\n",
       "      <td>0.187600</td>\n",
       "      <td>0.067500</td>\n",
       "      <td>0.160100</td>\n",
       "      <td>0.160000</td>\n",
       "      <td>19.000000</td>\n",
       "    </tr>\n",
       "    <tr>\n",
       "      <td>5</td>\n",
       "      <td>5.930200</td>\n",
       "      <td>5.698036</td>\n",
       "      <td>0.183800</td>\n",
       "      <td>0.069800</td>\n",
       "      <td>0.159100</td>\n",
       "      <td>0.159000</td>\n",
       "      <td>19.000000</td>\n",
       "    </tr>\n",
       "    <tr>\n",
       "      <td>6</td>\n",
       "      <td>5.766400</td>\n",
       "      <td>5.563242</td>\n",
       "      <td>0.185500</td>\n",
       "      <td>0.071300</td>\n",
       "      <td>0.160700</td>\n",
       "      <td>0.160700</td>\n",
       "      <td>19.000000</td>\n",
       "    </tr>\n",
       "    <tr>\n",
       "      <td>7</td>\n",
       "      <td>5.641100</td>\n",
       "      <td>5.459766</td>\n",
       "      <td>0.191200</td>\n",
       "      <td>0.075500</td>\n",
       "      <td>0.165500</td>\n",
       "      <td>0.165500</td>\n",
       "      <td>19.000000</td>\n",
       "    </tr>\n",
       "    <tr>\n",
       "      <td>8</td>\n",
       "      <td>5.537300</td>\n",
       "      <td>5.380566</td>\n",
       "      <td>0.188900</td>\n",
       "      <td>0.076500</td>\n",
       "      <td>0.164400</td>\n",
       "      <td>0.164300</td>\n",
       "      <td>19.000000</td>\n",
       "    </tr>\n",
       "    <tr>\n",
       "      <td>9</td>\n",
       "      <td>5.463600</td>\n",
       "      <td>5.320973</td>\n",
       "      <td>0.186800</td>\n",
       "      <td>0.076200</td>\n",
       "      <td>0.162800</td>\n",
       "      <td>0.162700</td>\n",
       "      <td>18.991600</td>\n",
       "    </tr>\n",
       "    <tr>\n",
       "      <td>10</td>\n",
       "      <td>5.428400</td>\n",
       "      <td>5.273892</td>\n",
       "      <td>0.183200</td>\n",
       "      <td>0.075700</td>\n",
       "      <td>0.161300</td>\n",
       "      <td>0.161300</td>\n",
       "      <td>18.991600</td>\n",
       "    </tr>\n",
       "    <tr>\n",
       "      <td>11</td>\n",
       "      <td>5.375000</td>\n",
       "      <td>5.248502</td>\n",
       "      <td>0.187800</td>\n",
       "      <td>0.078400</td>\n",
       "      <td>0.164400</td>\n",
       "      <td>0.164400</td>\n",
       "      <td>19.000000</td>\n",
       "    </tr>\n",
       "    <tr>\n",
       "      <td>12</td>\n",
       "      <td>5.354100</td>\n",
       "      <td>5.240363</td>\n",
       "      <td>0.187600</td>\n",
       "      <td>0.079100</td>\n",
       "      <td>0.164300</td>\n",
       "      <td>0.164300</td>\n",
       "      <td>19.000000</td>\n",
       "    </tr>\n",
       "  </tbody>\n",
       "</table><p>"
      ],
      "text/plain": [
       "<IPython.core.display.HTML object>"
      ]
     },
     "metadata": {},
     "output_type": "display_data"
    },
    {
     "name": "stderr",
     "output_type": "stream",
     "text": [
      "Saving model checkpoint to ./output/results/checkpoint-500\n",
      "Configuration saved in ./output/results/checkpoint-500/config.json\n",
      "Model weights saved in ./output/results/checkpoint-500/pytorch_model.bin\n",
      "tokenizer config file saved in ./output/results/checkpoint-500/tokenizer_config.json\n",
      "Special tokens file saved in ./output/results/checkpoint-500/special_tokens_map.json\n",
      "Copy vocab file to ./output/results/checkpoint-500/spiece.model\n",
      "wandb: ERROR Error while calling W&B API: An internal error occurred. Please contact support. (<Response [500]>)\n",
      "wandb: ERROR Error while calling W&B API: An internal error occurred. Please contact support. (<Response [500]>)\n",
      "wandb: ERROR Error while calling W&B API: An internal error occurred. Please contact support. (<Response [500]>)\n",
      "wandb: ERROR Error while calling W&B API: An internal error occurred. Please contact support. (<Response [500]>)\n",
      "wandb: ERROR Error while calling W&B API: An internal error occurred. Please contact support. (<Response [500]>)\n",
      "wandb: ERROR Error while calling W&B API: An internal error occurred. Please contact support. (<Response [500]>)\n",
      "wandb: ERROR Error while calling W&B API: An internal error occurred. Please contact support. (<Response [500]>)\n",
      "The following columns in the evaluation set don't have a corresponding argument in `T5ForConditionalGeneration.forward` and have been ignored: summary, title, text. If summary, title, text are not expected by `T5ForConditionalGeneration.forward`,  you can safely ignore this message.\n",
      "***** Running Evaluation *****\n",
      "  Num examples = 1895\n",
      "  Batch size = 16\n",
      "Saving model checkpoint to ./output/results/checkpoint-1000\n",
      "Configuration saved in ./output/results/checkpoint-1000/config.json\n",
      "Model weights saved in ./output/results/checkpoint-1000/pytorch_model.bin\n",
      "tokenizer config file saved in ./output/results/checkpoint-1000/tokenizer_config.json\n",
      "Special tokens file saved in ./output/results/checkpoint-1000/special_tokens_map.json\n",
      "Copy vocab file to ./output/results/checkpoint-1000/spiece.model\n",
      "Saving model checkpoint to ./output/results/checkpoint-1500\n",
      "Configuration saved in ./output/results/checkpoint-1500/config.json\n",
      "Model weights saved in ./output/results/checkpoint-1500/pytorch_model.bin\n",
      "tokenizer config file saved in ./output/results/checkpoint-1500/tokenizer_config.json\n",
      "Special tokens file saved in ./output/results/checkpoint-1500/special_tokens_map.json\n",
      "Copy vocab file to ./output/results/checkpoint-1500/spiece.model\n",
      "wandb: Network error (ReadTimeout), entering retry loop.\n",
      "The following columns in the evaluation set don't have a corresponding argument in `T5ForConditionalGeneration.forward` and have been ignored: summary, title, text. If summary, title, text are not expected by `T5ForConditionalGeneration.forward`,  you can safely ignore this message.\n",
      "***** Running Evaluation *****\n",
      "  Num examples = 1895\n",
      "  Batch size = 16\n",
      "Saving model checkpoint to ./output/results/checkpoint-2000\n",
      "Configuration saved in ./output/results/checkpoint-2000/config.json\n",
      "Model weights saved in ./output/results/checkpoint-2000/pytorch_model.bin\n",
      "tokenizer config file saved in ./output/results/checkpoint-2000/tokenizer_config.json\n",
      "Special tokens file saved in ./output/results/checkpoint-2000/special_tokens_map.json\n",
      "Copy vocab file to ./output/results/checkpoint-2000/spiece.model\n",
      "Deleting older checkpoint [output/results/checkpoint-500] due to args.save_total_limit\n",
      "Saving model checkpoint to ./output/results/checkpoint-2500\n",
      "Configuration saved in ./output/results/checkpoint-2500/config.json\n",
      "Model weights saved in ./output/results/checkpoint-2500/pytorch_model.bin\n",
      "tokenizer config file saved in ./output/results/checkpoint-2500/tokenizer_config.json\n",
      "Special tokens file saved in ./output/results/checkpoint-2500/special_tokens_map.json\n",
      "Copy vocab file to ./output/results/checkpoint-2500/spiece.model\n",
      "Deleting older checkpoint [output/results/checkpoint-1000] due to args.save_total_limit\n",
      "The following columns in the evaluation set don't have a corresponding argument in `T5ForConditionalGeneration.forward` and have been ignored: summary, title, text. If summary, title, text are not expected by `T5ForConditionalGeneration.forward`,  you can safely ignore this message.\n",
      "***** Running Evaluation *****\n",
      "  Num examples = 1895\n",
      "  Batch size = 16\n",
      "Saving model checkpoint to ./output/results/checkpoint-3000\n",
      "Configuration saved in ./output/results/checkpoint-3000/config.json\n",
      "Model weights saved in ./output/results/checkpoint-3000/pytorch_model.bin\n",
      "tokenizer config file saved in ./output/results/checkpoint-3000/tokenizer_config.json\n",
      "Special tokens file saved in ./output/results/checkpoint-3000/special_tokens_map.json\n",
      "Copy vocab file to ./output/results/checkpoint-3000/spiece.model\n",
      "Deleting older checkpoint [output/results/checkpoint-1500] due to args.save_total_limit\n",
      "Saving model checkpoint to ./output/results/checkpoint-3500\n",
      "Configuration saved in ./output/results/checkpoint-3500/config.json\n",
      "Model weights saved in ./output/results/checkpoint-3500/pytorch_model.bin\n",
      "tokenizer config file saved in ./output/results/checkpoint-3500/tokenizer_config.json\n",
      "Special tokens file saved in ./output/results/checkpoint-3500/special_tokens_map.json\n",
      "Copy vocab file to ./output/results/checkpoint-3500/spiece.model\n",
      "Deleting older checkpoint [output/results/checkpoint-2000] due to args.save_total_limit\n",
      "The following columns in the evaluation set don't have a corresponding argument in `T5ForConditionalGeneration.forward` and have been ignored: summary, title, text. If summary, title, text are not expected by `T5ForConditionalGeneration.forward`,  you can safely ignore this message.\n",
      "***** Running Evaluation *****\n",
      "  Num examples = 1895\n",
      "  Batch size = 16\n",
      "Saving model checkpoint to ./output/results/checkpoint-4000\n",
      "Configuration saved in ./output/results/checkpoint-4000/config.json\n",
      "Model weights saved in ./output/results/checkpoint-4000/pytorch_model.bin\n",
      "tokenizer config file saved in ./output/results/checkpoint-4000/tokenizer_config.json\n",
      "Special tokens file saved in ./output/results/checkpoint-4000/special_tokens_map.json\n",
      "Copy vocab file to ./output/results/checkpoint-4000/spiece.model\n",
      "Deleting older checkpoint [output/results/checkpoint-2500] due to args.save_total_limit\n",
      "Saving model checkpoint to ./output/results/checkpoint-4500\n",
      "Configuration saved in ./output/results/checkpoint-4500/config.json\n",
      "Model weights saved in ./output/results/checkpoint-4500/pytorch_model.bin\n",
      "tokenizer config file saved in ./output/results/checkpoint-4500/tokenizer_config.json\n",
      "Special tokens file saved in ./output/results/checkpoint-4500/special_tokens_map.json\n",
      "Copy vocab file to ./output/results/checkpoint-4500/spiece.model\n",
      "Deleting older checkpoint [output/results/checkpoint-3000] due to args.save_total_limit\n",
      "The following columns in the evaluation set don't have a corresponding argument in `T5ForConditionalGeneration.forward` and have been ignored: summary, title, text. If summary, title, text are not expected by `T5ForConditionalGeneration.forward`,  you can safely ignore this message.\n",
      "***** Running Evaluation *****\n",
      "  Num examples = 1895\n",
      "  Batch size = 16\n",
      "Saving model checkpoint to ./output/results/checkpoint-5000\n",
      "Configuration saved in ./output/results/checkpoint-5000/config.json\n",
      "Model weights saved in ./output/results/checkpoint-5000/pytorch_model.bin\n",
      "tokenizer config file saved in ./output/results/checkpoint-5000/tokenizer_config.json\n",
      "Special tokens file saved in ./output/results/checkpoint-5000/special_tokens_map.json\n",
      "Copy vocab file to ./output/results/checkpoint-5000/spiece.model\n",
      "Deleting older checkpoint [output/results/checkpoint-3500] due to args.save_total_limit\n",
      "Saving model checkpoint to ./output/results/checkpoint-5500\n",
      "Configuration saved in ./output/results/checkpoint-5500/config.json\n",
      "Model weights saved in ./output/results/checkpoint-5500/pytorch_model.bin\n",
      "tokenizer config file saved in ./output/results/checkpoint-5500/tokenizer_config.json\n",
      "Special tokens file saved in ./output/results/checkpoint-5500/special_tokens_map.json\n",
      "Copy vocab file to ./output/results/checkpoint-5500/spiece.model\n",
      "Deleting older checkpoint [output/results/checkpoint-4000] due to args.save_total_limit\n",
      "The following columns in the evaluation set don't have a corresponding argument in `T5ForConditionalGeneration.forward` and have been ignored: summary, title, text. If summary, title, text are not expected by `T5ForConditionalGeneration.forward`,  you can safely ignore this message.\n",
      "***** Running Evaluation *****\n",
      "  Num examples = 1895\n",
      "  Batch size = 16\n",
      "Saving model checkpoint to ./output/results/checkpoint-6000\n",
      "Configuration saved in ./output/results/checkpoint-6000/config.json\n",
      "Model weights saved in ./output/results/checkpoint-6000/pytorch_model.bin\n",
      "tokenizer config file saved in ./output/results/checkpoint-6000/tokenizer_config.json\n",
      "Special tokens file saved in ./output/results/checkpoint-6000/special_tokens_map.json\n",
      "Copy vocab file to ./output/results/checkpoint-6000/spiece.model\n",
      "Deleting older checkpoint [output/results/checkpoint-4500] due to args.save_total_limit\n",
      "Saving model checkpoint to ./output/results/checkpoint-6500\n",
      "Configuration saved in ./output/results/checkpoint-6500/config.json\n",
      "Model weights saved in ./output/results/checkpoint-6500/pytorch_model.bin\n",
      "tokenizer config file saved in ./output/results/checkpoint-6500/tokenizer_config.json\n",
      "Special tokens file saved in ./output/results/checkpoint-6500/special_tokens_map.json\n",
      "Copy vocab file to ./output/results/checkpoint-6500/spiece.model\n",
      "Deleting older checkpoint [output/results/checkpoint-5000] due to args.save_total_limit\n",
      "The following columns in the evaluation set don't have a corresponding argument in `T5ForConditionalGeneration.forward` and have been ignored: summary, title, text. If summary, title, text are not expected by `T5ForConditionalGeneration.forward`,  you can safely ignore this message.\n",
      "***** Running Evaluation *****\n",
      "  Num examples = 1895\n",
      "  Batch size = 16\n",
      "Saving model checkpoint to ./output/results/checkpoint-7000\n",
      "Configuration saved in ./output/results/checkpoint-7000/config.json\n",
      "Model weights saved in ./output/results/checkpoint-7000/pytorch_model.bin\n",
      "tokenizer config file saved in ./output/results/checkpoint-7000/tokenizer_config.json\n",
      "Special tokens file saved in ./output/results/checkpoint-7000/special_tokens_map.json\n",
      "Copy vocab file to ./output/results/checkpoint-7000/spiece.model\n",
      "Deleting older checkpoint [output/results/checkpoint-5500] due to args.save_total_limit\n",
      "Saving model checkpoint to ./output/results/checkpoint-7500\n",
      "Configuration saved in ./output/results/checkpoint-7500/config.json\n",
      "Model weights saved in ./output/results/checkpoint-7500/pytorch_model.bin\n",
      "tokenizer config file saved in ./output/results/checkpoint-7500/tokenizer_config.json\n",
      "Special tokens file saved in ./output/results/checkpoint-7500/special_tokens_map.json\n",
      "Copy vocab file to ./output/results/checkpoint-7500/spiece.model\n",
      "Deleting older checkpoint [output/results/checkpoint-6000] due to args.save_total_limit\n",
      "The following columns in the evaluation set don't have a corresponding argument in `T5ForConditionalGeneration.forward` and have been ignored: summary, title, text. If summary, title, text are not expected by `T5ForConditionalGeneration.forward`,  you can safely ignore this message.\n",
      "***** Running Evaluation *****\n",
      "  Num examples = 1895\n",
      "  Batch size = 16\n",
      "Saving model checkpoint to ./output/results/checkpoint-8000\n",
      "Configuration saved in ./output/results/checkpoint-8000/config.json\n",
      "Model weights saved in ./output/results/checkpoint-8000/pytorch_model.bin\n",
      "tokenizer config file saved in ./output/results/checkpoint-8000/tokenizer_config.json\n",
      "Special tokens file saved in ./output/results/checkpoint-8000/special_tokens_map.json\n",
      "Copy vocab file to ./output/results/checkpoint-8000/spiece.model\n",
      "Deleting older checkpoint [output/results/checkpoint-6500] due to args.save_total_limit\n",
      "Saving model checkpoint to ./output/results/checkpoint-8500\n",
      "Configuration saved in ./output/results/checkpoint-8500/config.json\n",
      "Model weights saved in ./output/results/checkpoint-8500/pytorch_model.bin\n",
      "tokenizer config file saved in ./output/results/checkpoint-8500/tokenizer_config.json\n",
      "Special tokens file saved in ./output/results/checkpoint-8500/special_tokens_map.json\n",
      "Copy vocab file to ./output/results/checkpoint-8500/spiece.model\n",
      "Deleting older checkpoint [output/results/checkpoint-7000] due to args.save_total_limit\n",
      "The following columns in the evaluation set don't have a corresponding argument in `T5ForConditionalGeneration.forward` and have been ignored: summary, title, text. If summary, title, text are not expected by `T5ForConditionalGeneration.forward`,  you can safely ignore this message.\n",
      "***** Running Evaluation *****\n",
      "  Num examples = 1895\n",
      "  Batch size = 16\n",
      "Saving model checkpoint to ./output/results/checkpoint-9000\n",
      "Configuration saved in ./output/results/checkpoint-9000/config.json\n",
      "Model weights saved in ./output/results/checkpoint-9000/pytorch_model.bin\n",
      "tokenizer config file saved in ./output/results/checkpoint-9000/tokenizer_config.json\n",
      "Special tokens file saved in ./output/results/checkpoint-9000/special_tokens_map.json\n",
      "Copy vocab file to ./output/results/checkpoint-9000/spiece.model\n",
      "Deleting older checkpoint [output/results/checkpoint-7500] due to args.save_total_limit\n",
      "The following columns in the evaluation set don't have a corresponding argument in `T5ForConditionalGeneration.forward` and have been ignored: summary, title, text. If summary, title, text are not expected by `T5ForConditionalGeneration.forward`,  you can safely ignore this message.\n",
      "***** Running Evaluation *****\n",
      "  Num examples = 1895\n",
      "  Batch size = 16\n",
      "Saving model checkpoint to ./output/results/checkpoint-9500\n",
      "Configuration saved in ./output/results/checkpoint-9500/config.json\n",
      "Model weights saved in ./output/results/checkpoint-9500/pytorch_model.bin\n",
      "tokenizer config file saved in ./output/results/checkpoint-9500/tokenizer_config.json\n",
      "Special tokens file saved in ./output/results/checkpoint-9500/special_tokens_map.json\n",
      "Copy vocab file to ./output/results/checkpoint-9500/spiece.model\n",
      "Deleting older checkpoint [output/results/checkpoint-8000] due to args.save_total_limit\n",
      "Saving model checkpoint to ./output/results/checkpoint-10000\n",
      "Configuration saved in ./output/results/checkpoint-10000/config.json\n",
      "Model weights saved in ./output/results/checkpoint-10000/pytorch_model.bin\n",
      "tokenizer config file saved in ./output/results/checkpoint-10000/tokenizer_config.json\n",
      "Special tokens file saved in ./output/results/checkpoint-10000/special_tokens_map.json\n",
      "Copy vocab file to ./output/results/checkpoint-10000/spiece.model\n",
      "Deleting older checkpoint [output/results/checkpoint-8500] due to args.save_total_limit\n",
      "The following columns in the evaluation set don't have a corresponding argument in `T5ForConditionalGeneration.forward` and have been ignored: summary, title, text. If summary, title, text are not expected by `T5ForConditionalGeneration.forward`,  you can safely ignore this message.\n",
      "***** Running Evaluation *****\n",
      "  Num examples = 1895\n",
      "  Batch size = 16\n",
      "Saving model checkpoint to ./output/results/checkpoint-10500\n",
      "Configuration saved in ./output/results/checkpoint-10500/config.json\n",
      "Model weights saved in ./output/results/checkpoint-10500/pytorch_model.bin\n",
      "tokenizer config file saved in ./output/results/checkpoint-10500/tokenizer_config.json\n",
      "Special tokens file saved in ./output/results/checkpoint-10500/special_tokens_map.json\n",
      "Copy vocab file to ./output/results/checkpoint-10500/spiece.model\n",
      "Deleting older checkpoint [output/results/checkpoint-9000] due to args.save_total_limit\n",
      "Saving model checkpoint to ./output/results/checkpoint-11000\n",
      "Configuration saved in ./output/results/checkpoint-11000/config.json\n",
      "Model weights saved in ./output/results/checkpoint-11000/pytorch_model.bin\n",
      "tokenizer config file saved in ./output/results/checkpoint-11000/tokenizer_config.json\n",
      "Special tokens file saved in ./output/results/checkpoint-11000/special_tokens_map.json\n",
      "Copy vocab file to ./output/results/checkpoint-11000/spiece.model\n",
      "Deleting older checkpoint [output/results/checkpoint-9500] due to args.save_total_limit\n",
      "The following columns in the evaluation set don't have a corresponding argument in `T5ForConditionalGeneration.forward` and have been ignored: summary, title, text. If summary, title, text are not expected by `T5ForConditionalGeneration.forward`,  you can safely ignore this message.\n",
      "***** Running Evaluation *****\n",
      "  Num examples = 1895\n",
      "  Batch size = 16\n",
      "\n",
      "\n",
      "Training completed. Do not forget to share your model on huggingface.co/models =)\n",
      "\n",
      "\n"
     ]
    },
    {
     "data": {
      "text/plain": [
       "TrainOutput(global_step=11376, training_loss=5.935580064475788, metrics={'train_runtime': 17380.0673, 'train_samples_per_second': 10.466, 'train_steps_per_second': 0.655, 'total_flos': 4.923951284433715e+16, 'train_loss': 5.935580064475788, 'epoch': 12.0})"
      ]
     },
     "execution_count": 22,
     "metadata": {},
     "output_type": "execute_result"
    }
   ],
   "source": [
    "trainer.train()"
   ]
  },
  {
   "cell_type": "markdown",
   "id": "ba3385d6-f428-4f92-bace-4374cf60a1fd",
   "metadata": {},
   "source": [
    "# Test"
   ]
  },
  {
   "cell_type": "code",
   "execution_count": 23,
   "id": "0f130dd9-1463-4bf2-bcc3-1f6eaff631f5",
   "metadata": {},
   "outputs": [
    {
     "name": "stderr",
     "output_type": "stream",
     "text": [
      "The following columns in the evaluation set don't have a corresponding argument in `T5ForConditionalGeneration.forward` and have been ignored: summary, title, text. If summary, title, text are not expected by `T5ForConditionalGeneration.forward`,  you can safely ignore this message.\n",
      "***** Running Evaluation *****\n",
      "  Num examples = 1895\n",
      "  Batch size = 16\n"
     ]
    },
    {
     "data": {
      "text/html": [
       "\n",
       "    <div>\n",
       "      \n",
       "      <progress value='119' max='119' style='width:300px; height:20px; vertical-align: middle;'></progress>\n",
       "      [119/119 02:12]\n",
       "    </div>\n",
       "    "
      ],
      "text/plain": [
       "<IPython.core.display.HTML object>"
      ]
     },
     "metadata": {},
     "output_type": "display_data"
    },
    {
     "data": {
      "text/plain": [
       "{'eval_loss': 5.237868309020996,\n",
       " 'eval_rouge1': 0.1848,\n",
       " 'eval_rouge2': 0.0765,\n",
       " 'eval_rougeL': 0.161,\n",
       " 'eval_rougeLsum': 0.1612,\n",
       " 'eval_gen_len': 18.9916,\n",
       " 'eval_runtime': 148.6614,\n",
       " 'eval_samples_per_second': 12.747,\n",
       " 'eval_steps_per_second': 0.8,\n",
       " 'epoch': 12.0}"
      ]
     },
     "execution_count": 23,
     "metadata": {},
     "output_type": "execute_result"
    }
   ],
   "source": [
    "trainer.evaluate(eval_dataset=tokenized_test)"
   ]
  },
  {
   "cell_type": "markdown",
   "id": "f98166a0-bb9f-45f2-9abb-f52c2e5614fd",
   "metadata": {},
   "source": [
    "# Inference"
   ]
  },
  {
   "cell_type": "code",
   "execution_count": 25,
   "id": "45084fd9-de67-4da8-82a9-2deaedd3da9c",
   "metadata": {},
   "outputs": [],
   "source": [
    "text = \"\"\"summarize: The Inflation Reduction Act lowers prescription drug costs, \n",
    "health care costs, and energy costs. It's the most aggressive action on tackling the \n",
    "climate crisis in American history, which will lift up American workers and create good-paying, \n",
    "union jobs across the country. It'll lower the deficit and ask the ultra-wealthy and \n",
    "corporations to pay their fair share. And no one making under $400,000 per year will \n",
    "pay a penny more in taxes.\"\"\""
   ]
  },
  {
   "cell_type": "markdown",
   "id": "aae0c226-7ed1-46c0-9019-5809d5b21017",
   "metadata": {},
   "source": [
    "### Load Trained Model"
   ]
  },
  {
   "cell_type": "code",
   "execution_count": 26,
   "id": "488a02f9-db19-4345-80b5-2c81db8a9feb",
   "metadata": {},
   "outputs": [
    {
     "name": "stderr",
     "output_type": "stream",
     "text": [
      "Didn't find file output/results/checkpoint-11000/added_tokens.json. We won't load it.\n",
      "loading file output/results/checkpoint-11000/spiece.model\n",
      "loading file output/results/checkpoint-11000/tokenizer.json\n",
      "loading file None\n",
      "loading file output/results/checkpoint-11000/special_tokens_map.json\n",
      "loading file output/results/checkpoint-11000/tokenizer_config.json\n",
      "loading configuration file output/results/checkpoint-11000/config.json\n",
      "Model config T5Config {\n",
      "  \"_name_or_path\": \"output/results/checkpoint-11000\",\n",
      "  \"architectures\": [\n",
      "    \"T5ForConditionalGeneration\"\n",
      "  ],\n",
      "  \"d_ff\": 2048,\n",
      "  \"d_kv\": 64,\n",
      "  \"d_model\": 512,\n",
      "  \"decoder_start_token_id\": 0,\n",
      "  \"dense_act_fn\": \"relu\",\n",
      "  \"dropout_rate\": 0.1,\n",
      "  \"eos_token_id\": 1,\n",
      "  \"feed_forward_proj\": \"relu\",\n",
      "  \"initializer_factor\": 1.0,\n",
      "  \"is_encoder_decoder\": true,\n",
      "  \"is_gated_act\": false,\n",
      "  \"layer_norm_epsilon\": 1e-06,\n",
      "  \"model_type\": \"t5\",\n",
      "  \"num_decoder_layers\": 6,\n",
      "  \"num_heads\": 8,\n",
      "  \"num_layers\": 6,\n",
      "  \"pad_token_id\": 0,\n",
      "  \"relative_attention_max_distance\": 128,\n",
      "  \"relative_attention_num_buckets\": 32,\n",
      "  \"torch_dtype\": \"float32\",\n",
      "  \"transformers_version\": \"4.21.3\",\n",
      "  \"use_cache\": true,\n",
      "  \"vocab_size\": 32128\n",
      "}\n",
      "\n",
      "loading weights file output/results/checkpoint-11000/pytorch_model.bin\n",
      "All model checkpoint weights were used when initializing T5ForConditionalGeneration.\n",
      "\n",
      "All the weights of T5ForConditionalGeneration were initialized from the model checkpoint at output/results/checkpoint-11000.\n",
      "If your task is similar to the task the model of the checkpoint was trained on, you can already use T5ForConditionalGeneration for predictions without further training.\n"
     ]
    }
   ],
   "source": [
    "model_output = \"output/results/checkpoint-11000\"\n",
    "\n",
    "tokenizer = AutoTokenizer.from_pretrained(model_output)\n",
    "inputs = tokenizer(text, return_tensors=\"pt\").input_ids\n",
    "model_ = AutoModelForSeq2SeqLM.from_pretrained(model_output)\n",
    "outputs = model_.generate(inputs, max_new_tokens=100, do_sample=False)"
   ]
  },
  {
   "cell_type": "markdown",
   "id": "b8117e56-e0ce-4a1e-a613-b0694fd4d0d2",
   "metadata": {},
   "source": [
    "### Decode"
   ]
  },
  {
   "cell_type": "code",
   "execution_count": 27,
   "id": "9321fd9b-a3d6-4ab7-bb91-302d141c20a6",
   "metadata": {},
   "outputs": [
    {
     "data": {
      "text/plain": [
       "'. Requires the Secretary of Health and Human Services to establish a program to: (1) a a a a a a a a a a a a a a a a a a a a a a a a a a a a a a a a a a a a a a a '"
      ]
     },
     "execution_count": 27,
     "metadata": {},
     "output_type": "execute_result"
    }
   ],
   "source": [
    "tokenizer.decode(outputs[0], skip_special_tokens=True)"
   ]
  },
  {
   "cell_type": "code",
   "execution_count": 28,
   "id": "df37adca-13ac-46a7-beb9-d7a67f8c3d3d",
   "metadata": {
    "tags": []
   },
   "outputs": [
    {
     "data": {
      "text/plain": [
       "'..................................................'"
      ]
     },
     "execution_count": 28,
     "metadata": {},
     "output_type": "execute_result"
    }
   ],
   "source": [
    "text = \"\"\"summarize: Cake is a flour confection made from flour, sugar, and other ingredients and is usually baked. \n",
    "In their oldest forms, cakes were modifications of bread, but cakes now cover a wide range of preparations \n",
    "that can be simple or elaborate and which share features with desserts such as pastries, meringues, custards, and pies.\n",
    "The most common ingredients include flour, sugar, eggs, fat (such as butter, oil, or margarine), a liquid, \n",
    "and a leavening agent, such as baking soda or baking powder. Common additional ingredients include dried, candied, or \n",
    "fresh fruit, nuts, cocoa, and extracts such as vanilla, with numerous substitutions for the primary ingredients. Cakes \n",
    "can also be filled with fruit preserves, nuts, or dessert sauces (like custard, jelly, cooked fruit, whipped cream, or \n",
    "syrups), iced with buttercream or other icings, and decorated with marzipan, piped borders, or candied fruit.\"\"\"\n",
    "\n",
    "inputs = tokenizer(text, return_tensors=\"pt\").input_ids\n",
    "outputs = model_.generate(inputs, max_new_tokens=100, do_sample=False)\n",
    "tokenizer.decode(outputs[0], skip_special_tokens=True)"
   ]
  },
  {
   "cell_type": "code",
   "execution_count": 29,
   "id": "0ebcbbff-7104-4a06-90c3-5aa27fb4c075",
   "metadata": {
    "tags": []
   },
   "outputs": [
    {
     "data": {
      "text/plain": [
       "'....... a program to the a program to the a program for the a program of the a a program of the a a program of the a a program of the a a a program of the a a a a a program of the a a a a a a a a a a a '"
      ]
     },
     "execution_count": 29,
     "metadata": {},
     "output_type": "execute_result"
    }
   ],
   "source": [
    "text = \"\"\"summarize: 31 minutos (English: 31 minutes) is a Chilean comedy television series and a children's music \n",
    "virtual band created by the production company Aplaplac (owned by Álvaro Díaz, Pedro Peirano and Juan Manuel Egaña) \n",
    "that began to be transmitted on March 15, 2003 by the signal of Televisión Nacional de Chile (TVN). The program \n",
    "is a parody to 60 minutos, a controversial news program of the same channel, transmitted in the 1970s and 1980s. It \n",
    "focuses on the adventures of the team of a news program of little prestige in which something unexpected \n",
    "always happens, whose presenter is Tulio Triviño. The program's notes are educational and leave an explicit \n",
    "or implicit message, while others are quite ridiculous.\n",
    "\n",
    "In its first period, the series had three seasons, from 2003 to 2005, in addition to a participation for the 2003 Chilean \n",
    "Telethon and a Christmas special that same year. On March 27, 2008, the series was taken to the cinema under the \n",
    "title of 31 minutos, la película.\n",
    "\n",
    "After the third season and for the next nine years the series had no new episodes. In 2012, the production company \n",
    "Aplaplac confirmed that the series would return to television with a fourth season, which was released on \n",
    "October 4, 2014 through TVN, and its last original episode was broadcast on the night of December 27, 2014. \n",
    "During its run, the series received universal acclaim from critics and viewers alike, with praise directed to its \n",
    "clever humour, soundtrack, accessibility towards children about complex issues and helping to revitalize the \n",
    "Chilean puppetry tradition.\n",
    "\n",
    "From 2004 to 2007, it was broadcast throughout Latin America by Nickelodeon and from 2015, it began to be broadcast \n",
    "by Cartoon Network. It also broadcasts in Mexico on Canal Once and Once Niños, and its most recent season is \n",
    "available in the Netflix Latin America catalog.\n",
    "\n",
    "31 minutos has performed throughout Chile and Mexico, making the program a musical band. On their tours they \n",
    "perform the songs broadcast on the program and their musical works outside of it.\"\"\"\n",
    "\n",
    "inputs = tokenizer(text, return_tensors=\"pt\").input_ids\n",
    "outputs = model_.generate(inputs, max_new_tokens=100, do_sample=False)\n",
    "tokenizer.decode(outputs[0], skip_special_tokens=True)"
   ]
  },
  {
   "cell_type": "code",
   "execution_count": 30,
   "id": "a6fac915-23e0-4dfc-b3fc-4ef6d099f9fe",
   "metadata": {},
   "outputs": [
    {
     "name": "stdout",
     "output_type": "stream",
     "text": [
      "huggingface/tokenizers: The current process just got forked, after parallelism has already been used. Disabling parallelism to avoid deadlocks...\n",
      "To disable this warning, you can either:\n",
      "\t- Avoid using `tokenizers` before the fork if possible\n",
      "\t- Explicitly set the environment variable TOKENIZERS_PARALLELISM=(true | false)\n",
      "output/results/checkpoint-11000/\n",
      "output/results/checkpoint-11000/trainer_state.json\n",
      "output/results/checkpoint-11000/pytorch_model.bin\n",
      "output/results/checkpoint-11000/training_args.bin\n",
      "output/results/checkpoint-11000/optimizer.pt\n",
      "output/results/checkpoint-11000/tokenizer.json\n",
      "output/results/checkpoint-11000/config.json\n",
      "output/results/checkpoint-11000/rng_state.pth\n",
      "output/results/checkpoint-11000/scheduler.pt\n",
      "output/results/checkpoint-11000/tokenizer_config.json\n",
      "output/results/checkpoint-11000/scaler.pt\n",
      "output/results/checkpoint-11000/special_tokens_map.json\n",
      "output/results/checkpoint-11000/spiece.model\n"
     ]
    }
   ],
   "source": [
    "!tar -czvf \"custom.tar.gz\" \"output/results/checkpoint-11000\""
   ]
  }
 ],
 "metadata": {
  "kernelspec": {
   "display_name": "Python 3 (ipykernel)",
   "language": "python",
   "name": "python3"
  },
  "language_info": {
   "codemirror_mode": {
    "name": "ipython",
    "version": 3
   },
   "file_extension": ".py",
   "mimetype": "text/x-python",
   "name": "python",
   "nbconvert_exporter": "python",
   "pygments_lexer": "ipython3",
   "version": "3.9.16"
  }
 },
 "nbformat": 4,
 "nbformat_minor": 5
}
